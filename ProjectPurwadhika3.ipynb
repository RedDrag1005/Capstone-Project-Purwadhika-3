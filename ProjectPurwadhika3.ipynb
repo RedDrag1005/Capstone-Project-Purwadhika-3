{
  "cells": [
    {
      "cell_type": "markdown",
      "metadata": {
        "id": "kEEneCwun6qS"
      },
      "source": [
        "# Preliminary Library Import"
      ]
    },
    {
      "cell_type": "code",
      "execution_count": 200,
      "metadata": {
        "id": "7InWBAhyn6qY"
      },
      "outputs": [],
      "source": [
        "import pandas as pd\n",
        "import numpy as np\n",
        "\n",
        "import seaborn as sns\n",
        "import matplotlib.pyplot as plt\n"
      ]
    },
    {
      "cell_type": "markdown",
      "metadata": {
        "id": "gNadL0_4n6qa"
      },
      "source": [
        "# Business Problem Understanding"
      ]
    },
    {
      "cell_type": "markdown",
      "metadata": {
        "id": "jbSVUap_n6qb"
      },
      "source": [
        "## Context"
      ]
    },
    {
      "cell_type": "markdown",
      "metadata": {
        "id": "C0c5o2WDn6qc"
      },
      "source": [
        "Marketing campaign are used not only by banks but also, other companies, marketing campaign is the process in which a company or institution promotes a product to its potential customers and current customers. In this dataset, a bank is using a marketing campaign to promote customers to deposit into their accounts whether they are prospective customer or customer that already had an account in the bank.\n",
        "\n",
        "The effectiveness of the marketing campaign itself is measured by the revenue produced during the campaign whether it is short-term and long term, and how much cost of gaining customers are lowered by the campaign itself. \n",
        "\n",
        "This marketing campaign itself are done by contacting the customers of the bank whether they call their cellular number or the home telephone. To succeed in persuading the customer usually, more than one call to the same customer is needed.\n",
        "\n"
      ]
    },
    {
      "cell_type": "markdown",
      "metadata": {
        "id": "2KbLSGyVn6qc"
      },
      "source": [
        "## Problem Statement"
      ]
    },
    {
      "cell_type": "markdown",
      "metadata": {
        "id": "Ruurt_uMn6qd"
      },
      "source": [
        "The main problem for this dataset is how to increase the success of the marketing campaign, and thus increase the revenue generated from the product which in this case is the deposit.\n",
        "\n",
        "Since the success of this marketing campaign depends on the customer depositing in the bank itself, it is important to first, know the important features that leads the customer depositing in the bank but also, predict which customer will deposit in the bank, and thus, we can concentrate on the marketing campaign on those customers who are likely to deposit in the bank"
      ]
    },
    {
      "cell_type": "markdown",
      "metadata": {
        "id": "U0n06tXOn6qe"
      },
      "source": [
        "## Goals"
      ]
    },
    {
      "cell_type": "markdown",
      "metadata": {
        "id": "iPnrS5wXn6qe"
      },
      "source": [
        "So, based on the problem presented, the bank needs a tool to predict whether the prospective customer will deposit during marketing campaign or not. The features that is contained in the dataset, such as, the customer information, the marketing campaign effect on the customer deposit.\n",
        "\n",
        "Thus, with the machine learning model, we can both predict the prospective customer willingness to deposit based on the marketing campaign, we can also analyze the features to see what each features effect on the customer decision. This two things can lead to the bank increased revenue from more deposit and customer deposit prediction can help the bank know which customer should be focused on."
      ]
    },
    {
      "cell_type": "markdown",
      "metadata": {
        "id": "ypDIi8P2n6qf"
      },
      "source": [
        "## Analytic Approach"
      ]
    },
    {
      "cell_type": "markdown",
      "metadata": {
        "id": "otqwa5u0n6qg"
      },
      "source": [
        "We will analyze the data to see which features in this dataset contributes to the customer depositing money in the bank or not on this marketing campaign for the bank. In this dataset, we will build a classification model, since we are making a predictive model to predict whether the customer will deposit or not so that, we can use the model to predict which customer will be deposit during the future marketing campaign and thus, we can direct more attention on to that customer. \n",
        "\n",
        "Feature importances could also be analyzed after the model is created so that, we could know which features can contribute to the customer depositing to the bank or not."
      ]
    },
    {
      "cell_type": "markdown",
      "metadata": {
        "id": "vZUSSHTun6qh"
      },
      "source": [
        "## Metrics Evaluation"
      ]
    },
    {
      "cell_type": "markdown",
      "metadata": {
        "id": "O6Kimhh7n6qh"
      },
      "source": [
        "Since the model that is used in this case is classification model, we will use ROC-AUC score and graph to see whether or not the model can predict the data better than guessing and the target class prediction can discriminate between the positive and negative class.\n",
        "\n",
        "We will also use the accuracy of the classification model to see whether the model is accurate or not in predicting the data. So, in this model we will use the classification report function so that, we can see the overall performance of the model itself, but we will focus on the accuracy value which is the rate of which the model correctly predicting compared to the test data.\n",
        "\n",
        "Confusion Matrix will also be used to see how the model perform by seeing how much is the model correctly predict positive and negative class and also How much does the model incorrrectly predicted"
      ]
    },
    {
      "cell_type": "markdown",
      "metadata": {
        "id": "_RxmNmX_n6qi"
      },
      "source": [
        "# Data Loading"
      ]
    },
    {
      "cell_type": "code",
      "execution_count": 201,
      "metadata": {
        "id": "0aUS9zsZn6qi",
        "outputId": "b2463555-bf24-49cb-baa8-8ea3ad91f020",
        "colab": {
          "base_uri": "https://localhost:8080/",
          "height": 206
        }
      },
      "outputs": [
        {
          "output_type": "execute_result",
          "data": {
            "text/plain": [
              "   age            job  balance housing loan    contact month  campaign  pdays  \\\n",
              "0   55         admin.     1662      no   no   cellular   jun         2     -1   \n",
              "1   39  self-employed    -3058     yes  yes   cellular   apr         3     -1   \n",
              "2   51         admin.     3025      no   no   cellular   may         1    352   \n",
              "3   38       services      -87     yes   no   cellular   may         1     -1   \n",
              "4   36      housemaid      205     yes   no  telephone   nov         4     -1   \n",
              "\n",
              "  poutcome deposit  \n",
              "0  unknown     yes  \n",
              "1  unknown     yes  \n",
              "2    other     yes  \n",
              "3  unknown      no  \n",
              "4  unknown      no  "
            ],
            "text/html": [
              "\n",
              "  <div id=\"df-229b5992-306d-4e62-bd9a-300087902a02\">\n",
              "    <div class=\"colab-df-container\">\n",
              "      <div>\n",
              "<style scoped>\n",
              "    .dataframe tbody tr th:only-of-type {\n",
              "        vertical-align: middle;\n",
              "    }\n",
              "\n",
              "    .dataframe tbody tr th {\n",
              "        vertical-align: top;\n",
              "    }\n",
              "\n",
              "    .dataframe thead th {\n",
              "        text-align: right;\n",
              "    }\n",
              "</style>\n",
              "<table border=\"1\" class=\"dataframe\">\n",
              "  <thead>\n",
              "    <tr style=\"text-align: right;\">\n",
              "      <th></th>\n",
              "      <th>age</th>\n",
              "      <th>job</th>\n",
              "      <th>balance</th>\n",
              "      <th>housing</th>\n",
              "      <th>loan</th>\n",
              "      <th>contact</th>\n",
              "      <th>month</th>\n",
              "      <th>campaign</th>\n",
              "      <th>pdays</th>\n",
              "      <th>poutcome</th>\n",
              "      <th>deposit</th>\n",
              "    </tr>\n",
              "  </thead>\n",
              "  <tbody>\n",
              "    <tr>\n",
              "      <th>0</th>\n",
              "      <td>55</td>\n",
              "      <td>admin.</td>\n",
              "      <td>1662</td>\n",
              "      <td>no</td>\n",
              "      <td>no</td>\n",
              "      <td>cellular</td>\n",
              "      <td>jun</td>\n",
              "      <td>2</td>\n",
              "      <td>-1</td>\n",
              "      <td>unknown</td>\n",
              "      <td>yes</td>\n",
              "    </tr>\n",
              "    <tr>\n",
              "      <th>1</th>\n",
              "      <td>39</td>\n",
              "      <td>self-employed</td>\n",
              "      <td>-3058</td>\n",
              "      <td>yes</td>\n",
              "      <td>yes</td>\n",
              "      <td>cellular</td>\n",
              "      <td>apr</td>\n",
              "      <td>3</td>\n",
              "      <td>-1</td>\n",
              "      <td>unknown</td>\n",
              "      <td>yes</td>\n",
              "    </tr>\n",
              "    <tr>\n",
              "      <th>2</th>\n",
              "      <td>51</td>\n",
              "      <td>admin.</td>\n",
              "      <td>3025</td>\n",
              "      <td>no</td>\n",
              "      <td>no</td>\n",
              "      <td>cellular</td>\n",
              "      <td>may</td>\n",
              "      <td>1</td>\n",
              "      <td>352</td>\n",
              "      <td>other</td>\n",
              "      <td>yes</td>\n",
              "    </tr>\n",
              "    <tr>\n",
              "      <th>3</th>\n",
              "      <td>38</td>\n",
              "      <td>services</td>\n",
              "      <td>-87</td>\n",
              "      <td>yes</td>\n",
              "      <td>no</td>\n",
              "      <td>cellular</td>\n",
              "      <td>may</td>\n",
              "      <td>1</td>\n",
              "      <td>-1</td>\n",
              "      <td>unknown</td>\n",
              "      <td>no</td>\n",
              "    </tr>\n",
              "    <tr>\n",
              "      <th>4</th>\n",
              "      <td>36</td>\n",
              "      <td>housemaid</td>\n",
              "      <td>205</td>\n",
              "      <td>yes</td>\n",
              "      <td>no</td>\n",
              "      <td>telephone</td>\n",
              "      <td>nov</td>\n",
              "      <td>4</td>\n",
              "      <td>-1</td>\n",
              "      <td>unknown</td>\n",
              "      <td>no</td>\n",
              "    </tr>\n",
              "  </tbody>\n",
              "</table>\n",
              "</div>\n",
              "      <button class=\"colab-df-convert\" onclick=\"convertToInteractive('df-229b5992-306d-4e62-bd9a-300087902a02')\"\n",
              "              title=\"Convert this dataframe to an interactive table.\"\n",
              "              style=\"display:none;\">\n",
              "        \n",
              "  <svg xmlns=\"http://www.w3.org/2000/svg\" height=\"24px\"viewBox=\"0 0 24 24\"\n",
              "       width=\"24px\">\n",
              "    <path d=\"M0 0h24v24H0V0z\" fill=\"none\"/>\n",
              "    <path d=\"M18.56 5.44l.94 2.06.94-2.06 2.06-.94-2.06-.94-.94-2.06-.94 2.06-2.06.94zm-11 1L8.5 8.5l.94-2.06 2.06-.94-2.06-.94L8.5 2.5l-.94 2.06-2.06.94zm10 10l.94 2.06.94-2.06 2.06-.94-2.06-.94-.94-2.06-.94 2.06-2.06.94z\"/><path d=\"M17.41 7.96l-1.37-1.37c-.4-.4-.92-.59-1.43-.59-.52 0-1.04.2-1.43.59L10.3 9.45l-7.72 7.72c-.78.78-.78 2.05 0 2.83L4 21.41c.39.39.9.59 1.41.59.51 0 1.02-.2 1.41-.59l7.78-7.78 2.81-2.81c.8-.78.8-2.07 0-2.86zM5.41 20L4 18.59l7.72-7.72 1.47 1.35L5.41 20z\"/>\n",
              "  </svg>\n",
              "      </button>\n",
              "      \n",
              "  <style>\n",
              "    .colab-df-container {\n",
              "      display:flex;\n",
              "      flex-wrap:wrap;\n",
              "      gap: 12px;\n",
              "    }\n",
              "\n",
              "    .colab-df-convert {\n",
              "      background-color: #E8F0FE;\n",
              "      border: none;\n",
              "      border-radius: 50%;\n",
              "      cursor: pointer;\n",
              "      display: none;\n",
              "      fill: #1967D2;\n",
              "      height: 32px;\n",
              "      padding: 0 0 0 0;\n",
              "      width: 32px;\n",
              "    }\n",
              "\n",
              "    .colab-df-convert:hover {\n",
              "      background-color: #E2EBFA;\n",
              "      box-shadow: 0px 1px 2px rgba(60, 64, 67, 0.3), 0px 1px 3px 1px rgba(60, 64, 67, 0.15);\n",
              "      fill: #174EA6;\n",
              "    }\n",
              "\n",
              "    [theme=dark] .colab-df-convert {\n",
              "      background-color: #3B4455;\n",
              "      fill: #D2E3FC;\n",
              "    }\n",
              "\n",
              "    [theme=dark] .colab-df-convert:hover {\n",
              "      background-color: #434B5C;\n",
              "      box-shadow: 0px 1px 3px 1px rgba(0, 0, 0, 0.15);\n",
              "      filter: drop-shadow(0px 1px 2px rgba(0, 0, 0, 0.3));\n",
              "      fill: #FFFFFF;\n",
              "    }\n",
              "  </style>\n",
              "\n",
              "      <script>\n",
              "        const buttonEl =\n",
              "          document.querySelector('#df-229b5992-306d-4e62-bd9a-300087902a02 button.colab-df-convert');\n",
              "        buttonEl.style.display =\n",
              "          google.colab.kernel.accessAllowed ? 'block' : 'none';\n",
              "\n",
              "        async function convertToInteractive(key) {\n",
              "          const element = document.querySelector('#df-229b5992-306d-4e62-bd9a-300087902a02');\n",
              "          const dataTable =\n",
              "            await google.colab.kernel.invokeFunction('convertToInteractive',\n",
              "                                                     [key], {});\n",
              "          if (!dataTable) return;\n",
              "\n",
              "          const docLinkHtml = 'Like what you see? Visit the ' +\n",
              "            '<a target=\"_blank\" href=https://colab.research.google.com/notebooks/data_table.ipynb>data table notebook</a>'\n",
              "            + ' to learn more about interactive tables.';\n",
              "          element.innerHTML = '';\n",
              "          dataTable['output_type'] = 'display_data';\n",
              "          await google.colab.output.renderOutput(dataTable, element);\n",
              "          const docLink = document.createElement('div');\n",
              "          docLink.innerHTML = docLinkHtml;\n",
              "          element.appendChild(docLink);\n",
              "        }\n",
              "      </script>\n",
              "    </div>\n",
              "  </div>\n",
              "  "
            ]
          },
          "metadata": {},
          "execution_count": 201
        }
      ],
      "source": [
        "df = pd.read_csv('data_bank_marketing_campaign.csv')\n",
        "df.head()"
      ]
    },
    {
      "cell_type": "markdown",
      "metadata": {
        "id": "yz5nuxFIn6qj"
      },
      "source": [
        "# Data Understanding\n",
        "\n",
        "- The dataset contains the information about the customer of the bank and the outcome of the bank marketing campaign\n",
        "- Each row contains the data of each of the customers of the bank and whether they deposit money to the bank or not"
      ]
    },
    {
      "cell_type": "markdown",
      "metadata": {
        "id": "hdGIwBN_n6qk"
      },
      "source": [
        "|Feature|Data Type|Description|\n",
        "| --- | --- | --- |\n",
        "| Age | int64 | The age of the Customer |\n",
        "| Job| Object | The type of job of the customer |\n",
        "| Balance | int64 | The current balance of the customer's bank account |\n",
        "| Housing | Object | Whether the customer currently have a housing or not |\n",
        "| Loan | Object | Whether the customer currently loaning or not |\n",
        "| Contact | Integer | How the customer is contacted by the bank |\n",
        "| Month | Object | The month of the last contact with the customer |\n",
        "| Campaign | int64 | Number of times the customer is contacted during the campaign |\n",
        "| pdays | int64 | The number of days since the customer was last contacted |\n",
        "| poutcome | Integer | The outcome of the previous marketing campaign |\n",
        "| Deposit | Object | Whether the customer deposit or not |"
      ]
    },
    {
      "cell_type": "code",
      "execution_count": 202,
      "metadata": {
        "id": "CH6GVs2Pn6qk",
        "outputId": "ebe40c92-69ea-4199-a811-ff61517314bd",
        "colab": {
          "base_uri": "https://localhost:8080/"
        }
      },
      "outputs": [
        {
          "output_type": "stream",
          "name": "stdout",
          "text": [
            "<class 'pandas.core.frame.DataFrame'>\n",
            "RangeIndex: 7813 entries, 0 to 7812\n",
            "Data columns (total 11 columns):\n",
            " #   Column    Non-Null Count  Dtype \n",
            "---  ------    --------------  ----- \n",
            " 0   age       7813 non-null   int64 \n",
            " 1   job       7813 non-null   object\n",
            " 2   balance   7813 non-null   int64 \n",
            " 3   housing   7813 non-null   object\n",
            " 4   loan      7813 non-null   object\n",
            " 5   contact   7813 non-null   object\n",
            " 6   month     7813 non-null   object\n",
            " 7   campaign  7813 non-null   int64 \n",
            " 8   pdays     7813 non-null   int64 \n",
            " 9   poutcome  7813 non-null   object\n",
            " 10  deposit   7813 non-null   object\n",
            "dtypes: int64(4), object(7)\n",
            "memory usage: 671.6+ KB\n"
          ]
        }
      ],
      "source": [
        "df.info()"
      ]
    },
    {
      "cell_type": "markdown",
      "metadata": {
        "id": "vuu4_gxFn6ql"
      },
      "source": [
        "from the number above, there are 7813 rows or observations and 11 columns"
      ]
    },
    {
      "cell_type": "code",
      "execution_count": 203,
      "metadata": {
        "id": "km_ORWDAn6qo",
        "outputId": "5e52926e-0ef3-43ce-8576-58bf4d43d8a1",
        "colab": {
          "base_uri": "https://localhost:8080/",
          "height": 300
        }
      },
      "outputs": [
        {
          "output_type": "execute_result",
          "data": {
            "text/plain": [
              "               age       balance     campaign        pdays\n",
              "count  7813.000000   7813.000000  7813.000000  7813.000000\n",
              "mean     41.257264   1512.448611     2.519775    51.408550\n",
              "std      11.919710   3089.291831     2.727001   108.072739\n",
              "min      18.000000  -6847.000000     1.000000    -1.000000\n",
              "25%      32.000000    127.000000     1.000000    -1.000000\n",
              "50%      39.000000    549.000000     2.000000    -1.000000\n",
              "75%      49.000000   1684.000000     3.000000    40.000000\n",
              "max      95.000000  66653.000000    63.000000   854.000000"
            ],
            "text/html": [
              "\n",
              "  <div id=\"df-71c3c087-76c6-4252-87e5-4a4977edacd3\">\n",
              "    <div class=\"colab-df-container\">\n",
              "      <div>\n",
              "<style scoped>\n",
              "    .dataframe tbody tr th:only-of-type {\n",
              "        vertical-align: middle;\n",
              "    }\n",
              "\n",
              "    .dataframe tbody tr th {\n",
              "        vertical-align: top;\n",
              "    }\n",
              "\n",
              "    .dataframe thead th {\n",
              "        text-align: right;\n",
              "    }\n",
              "</style>\n",
              "<table border=\"1\" class=\"dataframe\">\n",
              "  <thead>\n",
              "    <tr style=\"text-align: right;\">\n",
              "      <th></th>\n",
              "      <th>age</th>\n",
              "      <th>balance</th>\n",
              "      <th>campaign</th>\n",
              "      <th>pdays</th>\n",
              "    </tr>\n",
              "  </thead>\n",
              "  <tbody>\n",
              "    <tr>\n",
              "      <th>count</th>\n",
              "      <td>7813.000000</td>\n",
              "      <td>7813.000000</td>\n",
              "      <td>7813.000000</td>\n",
              "      <td>7813.000000</td>\n",
              "    </tr>\n",
              "    <tr>\n",
              "      <th>mean</th>\n",
              "      <td>41.257264</td>\n",
              "      <td>1512.448611</td>\n",
              "      <td>2.519775</td>\n",
              "      <td>51.408550</td>\n",
              "    </tr>\n",
              "    <tr>\n",
              "      <th>std</th>\n",
              "      <td>11.919710</td>\n",
              "      <td>3089.291831</td>\n",
              "      <td>2.727001</td>\n",
              "      <td>108.072739</td>\n",
              "    </tr>\n",
              "    <tr>\n",
              "      <th>min</th>\n",
              "      <td>18.000000</td>\n",
              "      <td>-6847.000000</td>\n",
              "      <td>1.000000</td>\n",
              "      <td>-1.000000</td>\n",
              "    </tr>\n",
              "    <tr>\n",
              "      <th>25%</th>\n",
              "      <td>32.000000</td>\n",
              "      <td>127.000000</td>\n",
              "      <td>1.000000</td>\n",
              "      <td>-1.000000</td>\n",
              "    </tr>\n",
              "    <tr>\n",
              "      <th>50%</th>\n",
              "      <td>39.000000</td>\n",
              "      <td>549.000000</td>\n",
              "      <td>2.000000</td>\n",
              "      <td>-1.000000</td>\n",
              "    </tr>\n",
              "    <tr>\n",
              "      <th>75%</th>\n",
              "      <td>49.000000</td>\n",
              "      <td>1684.000000</td>\n",
              "      <td>3.000000</td>\n",
              "      <td>40.000000</td>\n",
              "    </tr>\n",
              "    <tr>\n",
              "      <th>max</th>\n",
              "      <td>95.000000</td>\n",
              "      <td>66653.000000</td>\n",
              "      <td>63.000000</td>\n",
              "      <td>854.000000</td>\n",
              "    </tr>\n",
              "  </tbody>\n",
              "</table>\n",
              "</div>\n",
              "      <button class=\"colab-df-convert\" onclick=\"convertToInteractive('df-71c3c087-76c6-4252-87e5-4a4977edacd3')\"\n",
              "              title=\"Convert this dataframe to an interactive table.\"\n",
              "              style=\"display:none;\">\n",
              "        \n",
              "  <svg xmlns=\"http://www.w3.org/2000/svg\" height=\"24px\"viewBox=\"0 0 24 24\"\n",
              "       width=\"24px\">\n",
              "    <path d=\"M0 0h24v24H0V0z\" fill=\"none\"/>\n",
              "    <path d=\"M18.56 5.44l.94 2.06.94-2.06 2.06-.94-2.06-.94-.94-2.06-.94 2.06-2.06.94zm-11 1L8.5 8.5l.94-2.06 2.06-.94-2.06-.94L8.5 2.5l-.94 2.06-2.06.94zm10 10l.94 2.06.94-2.06 2.06-.94-2.06-.94-.94-2.06-.94 2.06-2.06.94z\"/><path d=\"M17.41 7.96l-1.37-1.37c-.4-.4-.92-.59-1.43-.59-.52 0-1.04.2-1.43.59L10.3 9.45l-7.72 7.72c-.78.78-.78 2.05 0 2.83L4 21.41c.39.39.9.59 1.41.59.51 0 1.02-.2 1.41-.59l7.78-7.78 2.81-2.81c.8-.78.8-2.07 0-2.86zM5.41 20L4 18.59l7.72-7.72 1.47 1.35L5.41 20z\"/>\n",
              "  </svg>\n",
              "      </button>\n",
              "      \n",
              "  <style>\n",
              "    .colab-df-container {\n",
              "      display:flex;\n",
              "      flex-wrap:wrap;\n",
              "      gap: 12px;\n",
              "    }\n",
              "\n",
              "    .colab-df-convert {\n",
              "      background-color: #E8F0FE;\n",
              "      border: none;\n",
              "      border-radius: 50%;\n",
              "      cursor: pointer;\n",
              "      display: none;\n",
              "      fill: #1967D2;\n",
              "      height: 32px;\n",
              "      padding: 0 0 0 0;\n",
              "      width: 32px;\n",
              "    }\n",
              "\n",
              "    .colab-df-convert:hover {\n",
              "      background-color: #E2EBFA;\n",
              "      box-shadow: 0px 1px 2px rgba(60, 64, 67, 0.3), 0px 1px 3px 1px rgba(60, 64, 67, 0.15);\n",
              "      fill: #174EA6;\n",
              "    }\n",
              "\n",
              "    [theme=dark] .colab-df-convert {\n",
              "      background-color: #3B4455;\n",
              "      fill: #D2E3FC;\n",
              "    }\n",
              "\n",
              "    [theme=dark] .colab-df-convert:hover {\n",
              "      background-color: #434B5C;\n",
              "      box-shadow: 0px 1px 3px 1px rgba(0, 0, 0, 0.15);\n",
              "      filter: drop-shadow(0px 1px 2px rgba(0, 0, 0, 0.3));\n",
              "      fill: #FFFFFF;\n",
              "    }\n",
              "  </style>\n",
              "\n",
              "      <script>\n",
              "        const buttonEl =\n",
              "          document.querySelector('#df-71c3c087-76c6-4252-87e5-4a4977edacd3 button.colab-df-convert');\n",
              "        buttonEl.style.display =\n",
              "          google.colab.kernel.accessAllowed ? 'block' : 'none';\n",
              "\n",
              "        async function convertToInteractive(key) {\n",
              "          const element = document.querySelector('#df-71c3c087-76c6-4252-87e5-4a4977edacd3');\n",
              "          const dataTable =\n",
              "            await google.colab.kernel.invokeFunction('convertToInteractive',\n",
              "                                                     [key], {});\n",
              "          if (!dataTable) return;\n",
              "\n",
              "          const docLinkHtml = 'Like what you see? Visit the ' +\n",
              "            '<a target=\"_blank\" href=https://colab.research.google.com/notebooks/data_table.ipynb>data table notebook</a>'\n",
              "            + ' to learn more about interactive tables.';\n",
              "          element.innerHTML = '';\n",
              "          dataTable['output_type'] = 'display_data';\n",
              "          await google.colab.output.renderOutput(dataTable, element);\n",
              "          const docLink = document.createElement('div');\n",
              "          docLink.innerHTML = docLinkHtml;\n",
              "          element.appendChild(docLink);\n",
              "        }\n",
              "      </script>\n",
              "    </div>\n",
              "  </div>\n",
              "  "
            ]
          },
          "metadata": {},
          "execution_count": 203
        }
      ],
      "source": [
        "df_num = df.select_dtypes('number')\n",
        "df_num.describe()"
      ]
    },
    {
      "cell_type": "code",
      "execution_count": 204,
      "metadata": {
        "id": "cyUXa7g_n6qp",
        "outputId": "9efab5af-72b4-463c-ee57-4aebc6200c30",
        "colab": {
          "base_uri": "https://localhost:8080/",
          "height": 175
        }
      },
      "outputs": [
        {
          "output_type": "execute_result",
          "data": {
            "text/plain": [
              "          Interquartile   Lower   Upper\n",
              "age                17.0     6.5    74.5\n",
              "balance          1557.0 -2208.5  4019.5\n",
              "campaign            2.0    -2.0     6.0\n",
              "pdays              41.0   -62.5   101.5"
            ],
            "text/html": [
              "\n",
              "  <div id=\"df-0ee95290-059f-4344-9b9e-cee03ece4277\">\n",
              "    <div class=\"colab-df-container\">\n",
              "      <div>\n",
              "<style scoped>\n",
              "    .dataframe tbody tr th:only-of-type {\n",
              "        vertical-align: middle;\n",
              "    }\n",
              "\n",
              "    .dataframe tbody tr th {\n",
              "        vertical-align: top;\n",
              "    }\n",
              "\n",
              "    .dataframe thead th {\n",
              "        text-align: right;\n",
              "    }\n",
              "</style>\n",
              "<table border=\"1\" class=\"dataframe\">\n",
              "  <thead>\n",
              "    <tr style=\"text-align: right;\">\n",
              "      <th></th>\n",
              "      <th>Interquartile</th>\n",
              "      <th>Lower</th>\n",
              "      <th>Upper</th>\n",
              "    </tr>\n",
              "  </thead>\n",
              "  <tbody>\n",
              "    <tr>\n",
              "      <th>age</th>\n",
              "      <td>17.0</td>\n",
              "      <td>6.5</td>\n",
              "      <td>74.5</td>\n",
              "    </tr>\n",
              "    <tr>\n",
              "      <th>balance</th>\n",
              "      <td>1557.0</td>\n",
              "      <td>-2208.5</td>\n",
              "      <td>4019.5</td>\n",
              "    </tr>\n",
              "    <tr>\n",
              "      <th>campaign</th>\n",
              "      <td>2.0</td>\n",
              "      <td>-2.0</td>\n",
              "      <td>6.0</td>\n",
              "    </tr>\n",
              "    <tr>\n",
              "      <th>pdays</th>\n",
              "      <td>41.0</td>\n",
              "      <td>-62.5</td>\n",
              "      <td>101.5</td>\n",
              "    </tr>\n",
              "  </tbody>\n",
              "</table>\n",
              "</div>\n",
              "      <button class=\"colab-df-convert\" onclick=\"convertToInteractive('df-0ee95290-059f-4344-9b9e-cee03ece4277')\"\n",
              "              title=\"Convert this dataframe to an interactive table.\"\n",
              "              style=\"display:none;\">\n",
              "        \n",
              "  <svg xmlns=\"http://www.w3.org/2000/svg\" height=\"24px\"viewBox=\"0 0 24 24\"\n",
              "       width=\"24px\">\n",
              "    <path d=\"M0 0h24v24H0V0z\" fill=\"none\"/>\n",
              "    <path d=\"M18.56 5.44l.94 2.06.94-2.06 2.06-.94-2.06-.94-.94-2.06-.94 2.06-2.06.94zm-11 1L8.5 8.5l.94-2.06 2.06-.94-2.06-.94L8.5 2.5l-.94 2.06-2.06.94zm10 10l.94 2.06.94-2.06 2.06-.94-2.06-.94-.94-2.06-.94 2.06-2.06.94z\"/><path d=\"M17.41 7.96l-1.37-1.37c-.4-.4-.92-.59-1.43-.59-.52 0-1.04.2-1.43.59L10.3 9.45l-7.72 7.72c-.78.78-.78 2.05 0 2.83L4 21.41c.39.39.9.59 1.41.59.51 0 1.02-.2 1.41-.59l7.78-7.78 2.81-2.81c.8-.78.8-2.07 0-2.86zM5.41 20L4 18.59l7.72-7.72 1.47 1.35L5.41 20z\"/>\n",
              "  </svg>\n",
              "      </button>\n",
              "      \n",
              "  <style>\n",
              "    .colab-df-container {\n",
              "      display:flex;\n",
              "      flex-wrap:wrap;\n",
              "      gap: 12px;\n",
              "    }\n",
              "\n",
              "    .colab-df-convert {\n",
              "      background-color: #E8F0FE;\n",
              "      border: none;\n",
              "      border-radius: 50%;\n",
              "      cursor: pointer;\n",
              "      display: none;\n",
              "      fill: #1967D2;\n",
              "      height: 32px;\n",
              "      padding: 0 0 0 0;\n",
              "      width: 32px;\n",
              "    }\n",
              "\n",
              "    .colab-df-convert:hover {\n",
              "      background-color: #E2EBFA;\n",
              "      box-shadow: 0px 1px 2px rgba(60, 64, 67, 0.3), 0px 1px 3px 1px rgba(60, 64, 67, 0.15);\n",
              "      fill: #174EA6;\n",
              "    }\n",
              "\n",
              "    [theme=dark] .colab-df-convert {\n",
              "      background-color: #3B4455;\n",
              "      fill: #D2E3FC;\n",
              "    }\n",
              "\n",
              "    [theme=dark] .colab-df-convert:hover {\n",
              "      background-color: #434B5C;\n",
              "      box-shadow: 0px 1px 3px 1px rgba(0, 0, 0, 0.15);\n",
              "      filter: drop-shadow(0px 1px 2px rgba(0, 0, 0, 0.3));\n",
              "      fill: #FFFFFF;\n",
              "    }\n",
              "  </style>\n",
              "\n",
              "      <script>\n",
              "        const buttonEl =\n",
              "          document.querySelector('#df-0ee95290-059f-4344-9b9e-cee03ece4277 button.colab-df-convert');\n",
              "        buttonEl.style.display =\n",
              "          google.colab.kernel.accessAllowed ? 'block' : 'none';\n",
              "\n",
              "        async function convertToInteractive(key) {\n",
              "          const element = document.querySelector('#df-0ee95290-059f-4344-9b9e-cee03ece4277');\n",
              "          const dataTable =\n",
              "            await google.colab.kernel.invokeFunction('convertToInteractive',\n",
              "                                                     [key], {});\n",
              "          if (!dataTable) return;\n",
              "\n",
              "          const docLinkHtml = 'Like what you see? Visit the ' +\n",
              "            '<a target=\"_blank\" href=https://colab.research.google.com/notebooks/data_table.ipynb>data table notebook</a>'\n",
              "            + ' to learn more about interactive tables.';\n",
              "          element.innerHTML = '';\n",
              "          dataTable['output_type'] = 'display_data';\n",
              "          await google.colab.output.renderOutput(dataTable, element);\n",
              "          const docLink = document.createElement('div');\n",
              "          docLink.innerHTML = docLinkHtml;\n",
              "          element.appendChild(docLink);\n",
              "        }\n",
              "      </script>\n",
              "    </div>\n",
              "  </div>\n",
              "  "
            ]
          },
          "metadata": {},
          "execution_count": 204
        }
      ],
      "source": [
        "listItem = []\n",
        "iqr = 0\n",
        "\n",
        "for col in df_num.columns:\n",
        "    iqr = df_num[col].quantile(0.75) - df_num[col].quantile(0.25)\n",
        "    listItem.append([iqr, df_num[col].quantile(0.25) - (1.5 * iqr), df_num[col].quantile(0.75) + (1.5 * iqr)])\n",
        "\n",
        "df_num_qr = pd.DataFrame(columns = ['Interquartile', 'Lower', 'Upper'], data = listItem, index = df_num.columns)\n",
        "df_num_qr"
      ]
    },
    {
      "cell_type": "code",
      "execution_count": 205,
      "metadata": {
        "id": "R1-xcToBn6qq",
        "outputId": "a328f391-ee0b-4e55-ab61-fb1238a58929",
        "colab": {
          "base_uri": "https://localhost:8080/",
          "height": 175
        }
      },
      "outputs": [
        {
          "output_type": "execute_result",
          "data": {
            "text/plain": [
              "               job housing  loan   contact month poutcome deposit\n",
              "count         7813    7813  7813      7813  7813     7813    7813\n",
              "unique          12       2     2         3    12        4       2\n",
              "top     management      no    no  cellular   may  unknown      no\n",
              "freq          1792    4140  6789      5628  1976     5819    4081"
            ],
            "text/html": [
              "\n",
              "  <div id=\"df-eff8bd75-b79b-4925-8f34-d3ecc61f6aef\">\n",
              "    <div class=\"colab-df-container\">\n",
              "      <div>\n",
              "<style scoped>\n",
              "    .dataframe tbody tr th:only-of-type {\n",
              "        vertical-align: middle;\n",
              "    }\n",
              "\n",
              "    .dataframe tbody tr th {\n",
              "        vertical-align: top;\n",
              "    }\n",
              "\n",
              "    .dataframe thead th {\n",
              "        text-align: right;\n",
              "    }\n",
              "</style>\n",
              "<table border=\"1\" class=\"dataframe\">\n",
              "  <thead>\n",
              "    <tr style=\"text-align: right;\">\n",
              "      <th></th>\n",
              "      <th>job</th>\n",
              "      <th>housing</th>\n",
              "      <th>loan</th>\n",
              "      <th>contact</th>\n",
              "      <th>month</th>\n",
              "      <th>poutcome</th>\n",
              "      <th>deposit</th>\n",
              "    </tr>\n",
              "  </thead>\n",
              "  <tbody>\n",
              "    <tr>\n",
              "      <th>count</th>\n",
              "      <td>7813</td>\n",
              "      <td>7813</td>\n",
              "      <td>7813</td>\n",
              "      <td>7813</td>\n",
              "      <td>7813</td>\n",
              "      <td>7813</td>\n",
              "      <td>7813</td>\n",
              "    </tr>\n",
              "    <tr>\n",
              "      <th>unique</th>\n",
              "      <td>12</td>\n",
              "      <td>2</td>\n",
              "      <td>2</td>\n",
              "      <td>3</td>\n",
              "      <td>12</td>\n",
              "      <td>4</td>\n",
              "      <td>2</td>\n",
              "    </tr>\n",
              "    <tr>\n",
              "      <th>top</th>\n",
              "      <td>management</td>\n",
              "      <td>no</td>\n",
              "      <td>no</td>\n",
              "      <td>cellular</td>\n",
              "      <td>may</td>\n",
              "      <td>unknown</td>\n",
              "      <td>no</td>\n",
              "    </tr>\n",
              "    <tr>\n",
              "      <th>freq</th>\n",
              "      <td>1792</td>\n",
              "      <td>4140</td>\n",
              "      <td>6789</td>\n",
              "      <td>5628</td>\n",
              "      <td>1976</td>\n",
              "      <td>5819</td>\n",
              "      <td>4081</td>\n",
              "    </tr>\n",
              "  </tbody>\n",
              "</table>\n",
              "</div>\n",
              "      <button class=\"colab-df-convert\" onclick=\"convertToInteractive('df-eff8bd75-b79b-4925-8f34-d3ecc61f6aef')\"\n",
              "              title=\"Convert this dataframe to an interactive table.\"\n",
              "              style=\"display:none;\">\n",
              "        \n",
              "  <svg xmlns=\"http://www.w3.org/2000/svg\" height=\"24px\"viewBox=\"0 0 24 24\"\n",
              "       width=\"24px\">\n",
              "    <path d=\"M0 0h24v24H0V0z\" fill=\"none\"/>\n",
              "    <path d=\"M18.56 5.44l.94 2.06.94-2.06 2.06-.94-2.06-.94-.94-2.06-.94 2.06-2.06.94zm-11 1L8.5 8.5l.94-2.06 2.06-.94-2.06-.94L8.5 2.5l-.94 2.06-2.06.94zm10 10l.94 2.06.94-2.06 2.06-.94-2.06-.94-.94-2.06-.94 2.06-2.06.94z\"/><path d=\"M17.41 7.96l-1.37-1.37c-.4-.4-.92-.59-1.43-.59-.52 0-1.04.2-1.43.59L10.3 9.45l-7.72 7.72c-.78.78-.78 2.05 0 2.83L4 21.41c.39.39.9.59 1.41.59.51 0 1.02-.2 1.41-.59l7.78-7.78 2.81-2.81c.8-.78.8-2.07 0-2.86zM5.41 20L4 18.59l7.72-7.72 1.47 1.35L5.41 20z\"/>\n",
              "  </svg>\n",
              "      </button>\n",
              "      \n",
              "  <style>\n",
              "    .colab-df-container {\n",
              "      display:flex;\n",
              "      flex-wrap:wrap;\n",
              "      gap: 12px;\n",
              "    }\n",
              "\n",
              "    .colab-df-convert {\n",
              "      background-color: #E8F0FE;\n",
              "      border: none;\n",
              "      border-radius: 50%;\n",
              "      cursor: pointer;\n",
              "      display: none;\n",
              "      fill: #1967D2;\n",
              "      height: 32px;\n",
              "      padding: 0 0 0 0;\n",
              "      width: 32px;\n",
              "    }\n",
              "\n",
              "    .colab-df-convert:hover {\n",
              "      background-color: #E2EBFA;\n",
              "      box-shadow: 0px 1px 2px rgba(60, 64, 67, 0.3), 0px 1px 3px 1px rgba(60, 64, 67, 0.15);\n",
              "      fill: #174EA6;\n",
              "    }\n",
              "\n",
              "    [theme=dark] .colab-df-convert {\n",
              "      background-color: #3B4455;\n",
              "      fill: #D2E3FC;\n",
              "    }\n",
              "\n",
              "    [theme=dark] .colab-df-convert:hover {\n",
              "      background-color: #434B5C;\n",
              "      box-shadow: 0px 1px 3px 1px rgba(0, 0, 0, 0.15);\n",
              "      filter: drop-shadow(0px 1px 2px rgba(0, 0, 0, 0.3));\n",
              "      fill: #FFFFFF;\n",
              "    }\n",
              "  </style>\n",
              "\n",
              "      <script>\n",
              "        const buttonEl =\n",
              "          document.querySelector('#df-eff8bd75-b79b-4925-8f34-d3ecc61f6aef button.colab-df-convert');\n",
              "        buttonEl.style.display =\n",
              "          google.colab.kernel.accessAllowed ? 'block' : 'none';\n",
              "\n",
              "        async function convertToInteractive(key) {\n",
              "          const element = document.querySelector('#df-eff8bd75-b79b-4925-8f34-d3ecc61f6aef');\n",
              "          const dataTable =\n",
              "            await google.colab.kernel.invokeFunction('convertToInteractive',\n",
              "                                                     [key], {});\n",
              "          if (!dataTable) return;\n",
              "\n",
              "          const docLinkHtml = 'Like what you see? Visit the ' +\n",
              "            '<a target=\"_blank\" href=https://colab.research.google.com/notebooks/data_table.ipynb>data table notebook</a>'\n",
              "            + ' to learn more about interactive tables.';\n",
              "          element.innerHTML = '';\n",
              "          dataTable['output_type'] = 'display_data';\n",
              "          await google.colab.output.renderOutput(dataTable, element);\n",
              "          const docLink = document.createElement('div');\n",
              "          docLink.innerHTML = docLinkHtml;\n",
              "          element.appendChild(docLink);\n",
              "        }\n",
              "      </script>\n",
              "    </div>\n",
              "  </div>\n",
              "  "
            ]
          },
          "metadata": {},
          "execution_count": 205
        }
      ],
      "source": [
        "df_cat = df.select_dtypes('object')\n",
        "df_cat.describe()"
      ]
    },
    {
      "cell_type": "code",
      "execution_count": 206,
      "metadata": {
        "id": "YO2SLW9zn6qq",
        "outputId": "2cf5da1d-aeb3-4353-9f6c-3054d63c6b81",
        "colab": {
          "base_uri": "https://localhost:8080/"
        }
      },
      "outputs": [
        {
          "output_type": "execute_result",
          "data": {
            "text/plain": [
              "no     4081\n",
              "yes    3732\n",
              "Name: deposit, dtype: int64"
            ]
          },
          "metadata": {},
          "execution_count": 206
        }
      ],
      "source": [
        "df['deposit'].value_counts()"
      ]
    },
    {
      "cell_type": "code",
      "execution_count": 207,
      "metadata": {
        "id": "AN2dHIE-n6qr",
        "outputId": "954f022e-f2a4-49ae-a9c7-98b304202eb3",
        "colab": {
          "base_uri": "https://localhost:8080/",
          "height": 482
        }
      },
      "outputs": [
        {
          "output_type": "display_data",
          "data": {
            "text/plain": [
              "<Figure size 576x576 with 1 Axes>"
            ],
            "image/png": "[encoded data removed]"
          },
          "metadata": {}
        }
      ],
      "source": [
        "plt.figure(figsize = (8, 8))\n",
        "plt.pie(df['deposit'].value_counts(), autopct = '%.2f', labels = ['no', 'yes'])\n",
        "plt.title('Pie chart on Customer Deposit', color = 'white')\n",
        "plt.show()"
      ]
    },
    {
      "cell_type": "markdown",
      "metadata": {
        "id": "NxF-m2yhn6qr"
      },
      "source": [
        "From the pie chart above, we can see that 52.23% of the customer in this dataset, did not deposit money to the bank while 47.77% of the customer deposited. From that, we can say that the target class in this dataset is balanced, thus no imbalanced functions needed to be used during the modelling process."
      ]
    },
    {
      "cell_type": "code",
      "source": [
        "plt.figure(figsize = (10, 10))\n",
        "sns.heatmap(df.select_dtypes(exclude = 'object').corr(), annot = True)\n",
        "plt.show()"
      ],
      "metadata": {
        "colab": {
          "base_uri": "https://localhost:8080/",
          "height": 596
        },
        "id": "cIl7KlT0v4yi",
        "outputId": "4422328e-b907-44e3-b07d-ea8847709fe8"
      },
      "execution_count": 208,
      "outputs": [
        {
          "output_type": "display_data",
          "data": {
            "text/plain": [
              "<Figure size 720x720 with 2 Axes>"
            ],
            "image/png": "[encoded data removed]"
          },
          "metadata": {
            "needs_background": "light"
          }
        }
      ]
    },
    {
      "cell_type": "markdown",
      "source": [
        "From the correlation heatmap above, we can see that between all of the numerical features in this dataset, there is no numerical features that heavily correlated to each other"
      ],
      "metadata": {
        "id": "celcJOZXw6Yt"
      }
    },
    {
      "cell_type": "markdown",
      "source": [
        "Next, we will do some data cleaning and preprocessing on the dataset"
      ],
      "metadata": {
        "id": "PMOcNF8wyKyJ"
      }
    },
    {
      "cell_type": "markdown",
      "metadata": {
        "id": "ZOY3eMBmn6qs"
      },
      "source": [
        "# Data Preprocessing"
      ]
    },
    {
      "cell_type": "markdown",
      "source": [
        "First, we will create a copy of the dataframe that we load the data into for the data cleaning, preprocessing and modelling"
      ],
      "metadata": {
        "id": "uuVXaLTAyUl6"
      }
    },
    {
      "cell_type": "code",
      "execution_count": 209,
      "metadata": {
        "id": "bGrAPRgXn6qs"
      },
      "outputs": [],
      "source": [
        "df_model = df.copy()"
      ]
    },
    {
      "cell_type": "markdown",
      "source": [
        "We will check if the data contains any duplicated row by using the duplicated() function"
      ],
      "metadata": {
        "id": "OzcwwNnpyls8"
      }
    },
    {
      "cell_type": "code",
      "execution_count": 210,
      "metadata": {
        "id": "DJzMdw9Zn6qs",
        "outputId": "0f1773c7-e1b9-49b5-916f-fdd72add2975",
        "colab": {
          "base_uri": "https://localhost:8080/"
        }
      },
      "outputs": [
        {
          "output_type": "execute_result",
          "data": {
            "text/plain": [
              "8"
            ]
          },
          "metadata": {},
          "execution_count": 210
        }
      ],
      "source": [
        "df_model.duplicated().sum()"
      ]
    },
    {
      "cell_type": "markdown",
      "metadata": {
        "id": "jucvhZzrn6qu"
      },
      "source": [
        "From the duplicated function, it can be seen that there is 8 rows that have duplicated data. \n",
        "\n",
        "First, let us check the data that is duplicated"
      ]
    },
    {
      "cell_type": "code",
      "execution_count": 211,
      "metadata": {
        "id": "vAYxTlaJn6qu",
        "outputId": "a1e193c2-d2b1-4214-e818-b6258ab4f34e",
        "colab": {
          "base_uri": "https://localhost:8080/",
          "height": 300
        }
      },
      "outputs": [
        {
          "output_type": "execute_result",
          "data": {
            "text/plain": [
              "      age          job  balance housing loan   contact month  campaign  pdays  \\\n",
              "2944   40  blue-collar        0     yes   no   unknown   may         2     -1   \n",
              "4368   60   management        0      no   no  cellular   aug         3     -1   \n",
              "4874   41   management        0      no   no  cellular   aug         2     -1   \n",
              "5326   44  blue-collar        0     yes   no  cellular   jul         1     -1   \n",
              "5609   39   technician        0     yes   no   unknown   may         1     -1   \n",
              "5681   38   technician        0      no   no  cellular   aug         2     -1   \n",
              "5905   34   management        0      no   no  cellular   aug         2     -1   \n",
              "7077   30  blue-collar      239     yes   no   unknown   may         1     -1   \n",
              "\n",
              "     poutcome deposit  \n",
              "2944  unknown      no  \n",
              "4368  unknown     yes  \n",
              "4874  unknown      no  \n",
              "5326  unknown      no  \n",
              "5609  unknown      no  \n",
              "5681  unknown      no  \n",
              "5905  unknown      no  \n",
              "7077  unknown     yes  "
            ],
            "text/html": [
              "\n",
              "  <div id=\"df-c25b86bd-ef5e-405f-9eaf-e7ca8338d989\">\n",
              "    <div class=\"colab-df-container\">\n",
              "      <div>\n",
              "<style scoped>\n",
              "    .dataframe tbody tr th:only-of-type {\n",
              "        vertical-align: middle;\n",
              "    }\n",
              "\n",
              "    .dataframe tbody tr th {\n",
              "        vertical-align: top;\n",
              "    }\n",
              "\n",
              "    .dataframe thead th {\n",
              "        text-align: right;\n",
              "    }\n",
              "</style>\n",
              "<table border=\"1\" class=\"dataframe\">\n",
              "  <thead>\n",
              "    <tr style=\"text-align: right;\">\n",
              "      <th></th>\n",
              "      <th>age</th>\n",
              "      <th>job</th>\n",
              "      <th>balance</th>\n",
              "      <th>housing</th>\n",
              "      <th>loan</th>\n",
              "      <th>contact</th>\n",
              "      <th>month</th>\n",
              "      <th>campaign</th>\n",
              "      <th>pdays</th>\n",
              "      <th>poutcome</th>\n",
              "      <th>deposit</th>\n",
              "    </tr>\n",
              "  </thead>\n",
              "  <tbody>\n",
              "    <tr>\n",
              "      <th>2944</th>\n",
              "      <td>40</td>\n",
              "      <td>blue-collar</td>\n",
              "      <td>0</td>\n",
              "      <td>yes</td>\n",
              "      <td>no</td>\n",
              "      <td>unknown</td>\n",
              "      <td>may</td>\n",
              "      <td>2</td>\n",
              "      <td>-1</td>\n",
              "      <td>unknown</td>\n",
              "      <td>no</td>\n",
              "    </tr>\n",
              "    <tr>\n",
              "      <th>4368</th>\n",
              "      <td>60</td>\n",
              "      <td>management</td>\n",
              "      <td>0</td>\n",
              "      <td>no</td>\n",
              "      <td>no</td>\n",
              "      <td>cellular</td>\n",
              "      <td>aug</td>\n",
              "      <td>3</td>\n",
              "      <td>-1</td>\n",
              "      <td>unknown</td>\n",
              "      <td>yes</td>\n",
              "    </tr>\n",
              "    <tr>\n",
              "      <th>4874</th>\n",
              "      <td>41</td>\n",
              "      <td>management</td>\n",
              "      <td>0</td>\n",
              "      <td>no</td>\n",
              "      <td>no</td>\n",
              "      <td>cellular</td>\n",
              "      <td>aug</td>\n",
              "      <td>2</td>\n",
              "      <td>-1</td>\n",
              "      <td>unknown</td>\n",
              "      <td>no</td>\n",
              "    </tr>\n",
              "    <tr>\n",
              "      <th>5326</th>\n",
              "      <td>44</td>\n",
              "      <td>blue-collar</td>\n",
              "      <td>0</td>\n",
              "      <td>yes</td>\n",
              "      <td>no</td>\n",
              "      <td>cellular</td>\n",
              "      <td>jul</td>\n",
              "      <td>1</td>\n",
              "      <td>-1</td>\n",
              "      <td>unknown</td>\n",
              "      <td>no</td>\n",
              "    </tr>\n",
              "    <tr>\n",
              "      <th>5609</th>\n",
              "      <td>39</td>\n",
              "      <td>technician</td>\n",
              "      <td>0</td>\n",
              "      <td>yes</td>\n",
              "      <td>no</td>\n",
              "      <td>unknown</td>\n",
              "      <td>may</td>\n",
              "      <td>1</td>\n",
              "      <td>-1</td>\n",
              "      <td>unknown</td>\n",
              "      <td>no</td>\n",
              "    </tr>\n",
              "    <tr>\n",
              "      <th>5681</th>\n",
              "      <td>38</td>\n",
              "      <td>technician</td>\n",
              "      <td>0</td>\n",
              "      <td>no</td>\n",
              "      <td>no</td>\n",
              "      <td>cellular</td>\n",
              "      <td>aug</td>\n",
              "      <td>2</td>\n",
              "      <td>-1</td>\n",
              "      <td>unknown</td>\n",
              "      <td>no</td>\n",
              "    </tr>\n",
              "    <tr>\n",
              "      <th>5905</th>\n",
              "      <td>34</td>\n",
              "      <td>management</td>\n",
              "      <td>0</td>\n",
              "      <td>no</td>\n",
              "      <td>no</td>\n",
              "      <td>cellular</td>\n",
              "      <td>aug</td>\n",
              "      <td>2</td>\n",
              "      <td>-1</td>\n",
              "      <td>unknown</td>\n",
              "      <td>no</td>\n",
              "    </tr>\n",
              "    <tr>\n",
              "      <th>7077</th>\n",
              "      <td>30</td>\n",
              "      <td>blue-collar</td>\n",
              "      <td>239</td>\n",
              "      <td>yes</td>\n",
              "      <td>no</td>\n",
              "      <td>unknown</td>\n",
              "      <td>may</td>\n",
              "      <td>1</td>\n",
              "      <td>-1</td>\n",
              "      <td>unknown</td>\n",
              "      <td>yes</td>\n",
              "    </tr>\n",
              "  </tbody>\n",
              "</table>\n",
              "</div>\n",
              "      <button class=\"colab-df-convert\" onclick=\"convertToInteractive('df-c25b86bd-ef5e-405f-9eaf-e7ca8338d989')\"\n",
              "              title=\"Convert this dataframe to an interactive table.\"\n",
              "              style=\"display:none;\">\n",
              "        \n",
              "  <svg xmlns=\"http://www.w3.org/2000/svg\" height=\"24px\"viewBox=\"0 0 24 24\"\n",
              "       width=\"24px\">\n",
              "    <path d=\"M0 0h24v24H0V0z\" fill=\"none\"/>\n",
              "    <path d=\"M18.56 5.44l.94 2.06.94-2.06 2.06-.94-2.06-.94-.94-2.06-.94 2.06-2.06.94zm-11 1L8.5 8.5l.94-2.06 2.06-.94-2.06-.94L8.5 2.5l-.94 2.06-2.06.94zm10 10l.94 2.06.94-2.06 2.06-.94-2.06-.94-.94-2.06-.94 2.06-2.06.94z\"/><path d=\"M17.41 7.96l-1.37-1.37c-.4-.4-.92-.59-1.43-.59-.52 0-1.04.2-1.43.59L10.3 9.45l-7.72 7.72c-.78.78-.78 2.05 0 2.83L4 21.41c.39.39.9.59 1.41.59.51 0 1.02-.2 1.41-.59l7.78-7.78 2.81-2.81c.8-.78.8-2.07 0-2.86zM5.41 20L4 18.59l7.72-7.72 1.47 1.35L5.41 20z\"/>\n",
              "  </svg>\n",
              "      </button>\n",
              "      \n",
              "  <style>\n",
              "    .colab-df-container {\n",
              "      display:flex;\n",
              "      flex-wrap:wrap;\n",
              "      gap: 12px;\n",
              "    }\n",
              "\n",
              "    .colab-df-convert {\n",
              "      background-color: #E8F0FE;\n",
              "      border: none;\n",
              "      border-radius: 50%;\n",
              "      cursor: pointer;\n",
              "      display: none;\n",
              "      fill: #1967D2;\n",
              "      height: 32px;\n",
              "      padding: 0 0 0 0;\n",
              "      width: 32px;\n",
              "    }\n",
              "\n",
              "    .colab-df-convert:hover {\n",
              "      background-color: #E2EBFA;\n",
              "      box-shadow: 0px 1px 2px rgba(60, 64, 67, 0.3), 0px 1px 3px 1px rgba(60, 64, 67, 0.15);\n",
              "      fill: #174EA6;\n",
              "    }\n",
              "\n",
              "    [theme=dark] .colab-df-convert {\n",
              "      background-color: #3B4455;\n",
              "      fill: #D2E3FC;\n",
              "    }\n",
              "\n",
              "    [theme=dark] .colab-df-convert:hover {\n",
              "      background-color: #434B5C;\n",
              "      box-shadow: 0px 1px 3px 1px rgba(0, 0, 0, 0.15);\n",
              "      filter: drop-shadow(0px 1px 2px rgba(0, 0, 0, 0.3));\n",
              "      fill: #FFFFFF;\n",
              "    }\n",
              "  </style>\n",
              "\n",
              "      <script>\n",
              "        const buttonEl =\n",
              "          document.querySelector('#df-c25b86bd-ef5e-405f-9eaf-e7ca8338d989 button.colab-df-convert');\n",
              "        buttonEl.style.display =\n",
              "          google.colab.kernel.accessAllowed ? 'block' : 'none';\n",
              "\n",
              "        async function convertToInteractive(key) {\n",
              "          const element = document.querySelector('#df-c25b86bd-ef5e-405f-9eaf-e7ca8338d989');\n",
              "          const dataTable =\n",
              "            await google.colab.kernel.invokeFunction('convertToInteractive',\n",
              "                                                     [key], {});\n",
              "          if (!dataTable) return;\n",
              "\n",
              "          const docLinkHtml = 'Like what you see? Visit the ' +\n",
              "            '<a target=\"_blank\" href=https://colab.research.google.com/notebooks/data_table.ipynb>data table notebook</a>'\n",
              "            + ' to learn more about interactive tables.';\n",
              "          element.innerHTML = '';\n",
              "          dataTable['output_type'] = 'display_data';\n",
              "          await google.colab.output.renderOutput(dataTable, element);\n",
              "          const docLink = document.createElement('div');\n",
              "          docLink.innerHTML = docLinkHtml;\n",
              "          element.appendChild(docLink);\n",
              "        }\n",
              "      </script>\n",
              "    </div>\n",
              "  </div>\n",
              "  "
            ]
          },
          "metadata": {},
          "execution_count": 211
        }
      ],
      "source": [
        "df_model[df_model.duplicated() == True]"
      ]
    },
    {
      "cell_type": "markdown",
      "metadata": {
        "id": "XDQZEORBn6qu"
      },
      "source": [
        "After this, we will drop any duplicated data present in the dataframe"
      ]
    },
    {
      "cell_type": "code",
      "source": [
        "df_model.drop_duplicates(inplace = True)\n",
        "df_model.duplicated().sum()"
      ],
      "metadata": {
        "colab": {
          "base_uri": "https://localhost:8080/"
        },
        "id": "yeD7IjPj36d2",
        "outputId": "8c59ab18-8bec-46fb-ecfc-21debfcdfe83"
      },
      "execution_count": 212,
      "outputs": [
        {
          "output_type": "execute_result",
          "data": {
            "text/plain": [
              "0"
            ]
          },
          "metadata": {},
          "execution_count": 212
        }
      ]
    },
    {
      "cell_type": "markdown",
      "source": [
        "As can be seen above as we drop the duplicates, we do not have any duplicated rows anymore."
      ],
      "metadata": {
        "id": "nTq6fFYi4Jvb"
      }
    },
    {
      "cell_type": "markdown",
      "source": [
        "Next, we will check for any missing value in the dataframe"
      ],
      "metadata": {
        "id": "zywXKUFh4Qou"
      }
    },
    {
      "cell_type": "code",
      "source": [
        "df_model.isna().sum()"
      ],
      "metadata": {
        "colab": {
          "base_uri": "https://localhost:8080/"
        },
        "id": "1OKasbmOt7t1",
        "outputId": "f063b439-ee51-4d5b-fd28-0938502f0dbb"
      },
      "execution_count": 213,
      "outputs": [
        {
          "output_type": "execute_result",
          "data": {
            "text/plain": [
              "age         0\n",
              "job         0\n",
              "balance     0\n",
              "housing     0\n",
              "loan        0\n",
              "contact     0\n",
              "month       0\n",
              "campaign    0\n",
              "pdays       0\n",
              "poutcome    0\n",
              "deposit     0\n",
              "dtype: int64"
            ]
          },
          "metadata": {},
          "execution_count": 213
        }
      ]
    },
    {
      "cell_type": "markdown",
      "source": [
        "From series above, we can see that there is no missing value from the features in this dataset. But, we will try to explore each column's unique values to see whether the missing value is encoded not using the null value that is present in the numpy library or None class of python."
      ],
      "metadata": {
        "id": "JVx02wDbzYYf"
      }
    },
    {
      "cell_type": "code",
      "execution_count": 214,
      "metadata": {
        "id": "rg2c5Nlon6ql",
        "outputId": "645d69e6-2da8-40c6-cb07-edcd49039791",
        "colab": {
          "base_uri": "https://localhost:8080/",
          "height": 394
        }
      },
      "outputs": [
        {
          "output_type": "execute_result",
          "data": {
            "text/plain": [
              "     Feature Data Type  Number of Unique  \\\n",
              "0        age     int64                75   \n",
              "1        job    object                12   \n",
              "2    balance     int64              3153   \n",
              "3    housing    object                 2   \n",
              "4       loan    object                 2   \n",
              "5    contact    object                 3   \n",
              "6      month    object                12   \n",
              "7   campaign     int64                32   \n",
              "8      pdays     int64               422   \n",
              "9   poutcome    object                 4   \n",
              "10   deposit    object                 2   \n",
              "\n",
              "                                               Unique  \n",
              "0   [55, 39, 51, 38, 36, 41, 37, 35, 57, 23, 33, 3...  \n",
              "1   [admin., self-employed, services, housemaid, t...  \n",
              "2   [1662, -3058, 3025, -87, 205, -76, 4803, 911, ...  \n",
              "3                                           [no, yes]  \n",
              "4                                           [no, yes]  \n",
              "5                      [cellular, telephone, unknown]  \n",
              "6   [jun, apr, may, nov, jan, sep, feb, mar, aug, ...  \n",
              "7   [2, 3, 1, 4, 5, 6, 7, 30, 8, 9, 11, 14, 10, 28...  \n",
              "8   [-1, 352, 21, 91, 186, 263, 96, 355, 294, 412,...  \n",
              "9                  [unknown, other, failure, success]  \n",
              "10                                          [yes, no]  "
            ],
            "text/html": [
              "\n",
              "  <div id=\"df-ff1d31aa-957a-4984-8636-e4f6c6e23816\">\n",
              "    <div class=\"colab-df-container\">\n",
              "      <div>\n",
              "<style scoped>\n",
              "    .dataframe tbody tr th:only-of-type {\n",
              "        vertical-align: middle;\n",
              "    }\n",
              "\n",
              "    .dataframe tbody tr th {\n",
              "        vertical-align: top;\n",
              "    }\n",
              "\n",
              "    .dataframe thead th {\n",
              "        text-align: right;\n",
              "    }\n",
              "</style>\n",
              "<table border=\"1\" class=\"dataframe\">\n",
              "  <thead>\n",
              "    <tr style=\"text-align: right;\">\n",
              "      <th></th>\n",
              "      <th>Feature</th>\n",
              "      <th>Data Type</th>\n",
              "      <th>Number of Unique</th>\n",
              "      <th>Unique</th>\n",
              "    </tr>\n",
              "  </thead>\n",
              "  <tbody>\n",
              "    <tr>\n",
              "      <th>0</th>\n",
              "      <td>age</td>\n",
              "      <td>int64</td>\n",
              "      <td>75</td>\n",
              "      <td>[55, 39, 51, 38, 36, 41, 37, 35, 57, 23, 33, 3...</td>\n",
              "    </tr>\n",
              "    <tr>\n",
              "      <th>1</th>\n",
              "      <td>job</td>\n",
              "      <td>object</td>\n",
              "      <td>12</td>\n",
              "      <td>[admin., self-employed, services, housemaid, t...</td>\n",
              "    </tr>\n",
              "    <tr>\n",
              "      <th>2</th>\n",
              "      <td>balance</td>\n",
              "      <td>int64</td>\n",
              "      <td>3153</td>\n",
              "      <td>[1662, -3058, 3025, -87, 205, -76, 4803, 911, ...</td>\n",
              "    </tr>\n",
              "    <tr>\n",
              "      <th>3</th>\n",
              "      <td>housing</td>\n",
              "      <td>object</td>\n",
              "      <td>2</td>\n",
              "      <td>[no, yes]</td>\n",
              "    </tr>\n",
              "    <tr>\n",
              "      <th>4</th>\n",
              "      <td>loan</td>\n",
              "      <td>object</td>\n",
              "      <td>2</td>\n",
              "      <td>[no, yes]</td>\n",
              "    </tr>\n",
              "    <tr>\n",
              "      <th>5</th>\n",
              "      <td>contact</td>\n",
              "      <td>object</td>\n",
              "      <td>3</td>\n",
              "      <td>[cellular, telephone, unknown]</td>\n",
              "    </tr>\n",
              "    <tr>\n",
              "      <th>6</th>\n",
              "      <td>month</td>\n",
              "      <td>object</td>\n",
              "      <td>12</td>\n",
              "      <td>[jun, apr, may, nov, jan, sep, feb, mar, aug, ...</td>\n",
              "    </tr>\n",
              "    <tr>\n",
              "      <th>7</th>\n",
              "      <td>campaign</td>\n",
              "      <td>int64</td>\n",
              "      <td>32</td>\n",
              "      <td>[2, 3, 1, 4, 5, 6, 7, 30, 8, 9, 11, 14, 10, 28...</td>\n",
              "    </tr>\n",
              "    <tr>\n",
              "      <th>8</th>\n",
              "      <td>pdays</td>\n",
              "      <td>int64</td>\n",
              "      <td>422</td>\n",
              "      <td>[-1, 352, 21, 91, 186, 263, 96, 355, 294, 412,...</td>\n",
              "    </tr>\n",
              "    <tr>\n",
              "      <th>9</th>\n",
              "      <td>poutcome</td>\n",
              "      <td>object</td>\n",
              "      <td>4</td>\n",
              "      <td>[unknown, other, failure, success]</td>\n",
              "    </tr>\n",
              "    <tr>\n",
              "      <th>10</th>\n",
              "      <td>deposit</td>\n",
              "      <td>object</td>\n",
              "      <td>2</td>\n",
              "      <td>[yes, no]</td>\n",
              "    </tr>\n",
              "  </tbody>\n",
              "</table>\n",
              "</div>\n",
              "      <button class=\"colab-df-convert\" onclick=\"convertToInteractive('df-ff1d31aa-957a-4984-8636-e4f6c6e23816')\"\n",
              "              title=\"Convert this dataframe to an interactive table.\"\n",
              "              style=\"display:none;\">\n",
              "        \n",
              "  <svg xmlns=\"http://www.w3.org/2000/svg\" height=\"24px\"viewBox=\"0 0 24 24\"\n",
              "       width=\"24px\">\n",
              "    <path d=\"M0 0h24v24H0V0z\" fill=\"none\"/>\n",
              "    <path d=\"M18.56 5.44l.94 2.06.94-2.06 2.06-.94-2.06-.94-.94-2.06-.94 2.06-2.06.94zm-11 1L8.5 8.5l.94-2.06 2.06-.94-2.06-.94L8.5 2.5l-.94 2.06-2.06.94zm10 10l.94 2.06.94-2.06 2.06-.94-2.06-.94-.94-2.06-.94 2.06-2.06.94z\"/><path d=\"M17.41 7.96l-1.37-1.37c-.4-.4-.92-.59-1.43-.59-.52 0-1.04.2-1.43.59L10.3 9.45l-7.72 7.72c-.78.78-.78 2.05 0 2.83L4 21.41c.39.39.9.59 1.41.59.51 0 1.02-.2 1.41-.59l7.78-7.78 2.81-2.81c.8-.78.8-2.07 0-2.86zM5.41 20L4 18.59l7.72-7.72 1.47 1.35L5.41 20z\"/>\n",
              "  </svg>\n",
              "      </button>\n",
              "      \n",
              "  <style>\n",
              "    .colab-df-container {\n",
              "      display:flex;\n",
              "      flex-wrap:wrap;\n",
              "      gap: 12px;\n",
              "    }\n",
              "\n",
              "    .colab-df-convert {\n",
              "      background-color: #E8F0FE;\n",
              "      border: none;\n",
              "      border-radius: 50%;\n",
              "      cursor: pointer;\n",
              "      display: none;\n",
              "      fill: #1967D2;\n",
              "      height: 32px;\n",
              "      padding: 0 0 0 0;\n",
              "      width: 32px;\n",
              "    }\n",
              "\n",
              "    .colab-df-convert:hover {\n",
              "      background-color: #E2EBFA;\n",
              "      box-shadow: 0px 1px 2px rgba(60, 64, 67, 0.3), 0px 1px 3px 1px rgba(60, 64, 67, 0.15);\n",
              "      fill: #174EA6;\n",
              "    }\n",
              "\n",
              "    [theme=dark] .colab-df-convert {\n",
              "      background-color: #3B4455;\n",
              "      fill: #D2E3FC;\n",
              "    }\n",
              "\n",
              "    [theme=dark] .colab-df-convert:hover {\n",
              "      background-color: #434B5C;\n",
              "      box-shadow: 0px 1px 3px 1px rgba(0, 0, 0, 0.15);\n",
              "      filter: drop-shadow(0px 1px 2px rgba(0, 0, 0, 0.3));\n",
              "      fill: #FFFFFF;\n",
              "    }\n",
              "  </style>\n",
              "\n",
              "      <script>\n",
              "        const buttonEl =\n",
              "          document.querySelector('#df-ff1d31aa-957a-4984-8636-e4f6c6e23816 button.colab-df-convert');\n",
              "        buttonEl.style.display =\n",
              "          google.colab.kernel.accessAllowed ? 'block' : 'none';\n",
              "\n",
              "        async function convertToInteractive(key) {\n",
              "          const element = document.querySelector('#df-ff1d31aa-957a-4984-8636-e4f6c6e23816');\n",
              "          const dataTable =\n",
              "            await google.colab.kernel.invokeFunction('convertToInteractive',\n",
              "                                                     [key], {});\n",
              "          if (!dataTable) return;\n",
              "\n",
              "          const docLinkHtml = 'Like what you see? Visit the ' +\n",
              "            '<a target=\"_blank\" href=https://colab.research.google.com/notebooks/data_table.ipynb>data table notebook</a>'\n",
              "            + ' to learn more about interactive tables.';\n",
              "          element.innerHTML = '';\n",
              "          dataTable['output_type'] = 'display_data';\n",
              "          await google.colab.output.renderOutput(dataTable, element);\n",
              "          const docLink = document.createElement('div');\n",
              "          docLink.innerHTML = docLinkHtml;\n",
              "          element.appendChild(docLink);\n",
              "        }\n",
              "      </script>\n",
              "    </div>\n",
              "  </div>\n",
              "  "
            ]
          },
          "metadata": {},
          "execution_count": 214
        }
      ],
      "source": [
        "df_model[df_model == 'unknown'].count()\n",
        "listItem = []\n",
        "\n",
        "for col in df.columns:\n",
        "    listItem.append([col, df[col].dtype, df[col].nunique(), df[col].unique()])\n",
        "\n",
        "df_desc = pd.DataFrame(columns = ['Feature', 'Data Type', 'Number of Unique', 'Unique'], data = listItem)\n",
        "df_desc"
      ]
    },
    {
      "cell_type": "markdown",
      "metadata": {
        "id": "w1gaIVpwn6qv"
      },
      "source": [
        "From the exploration of unique values from above it can be seen that in the poutcome and contact column there is a value that is called unknown, that can be seen as a missing value. \n",
        "\n",
        "Thus, we will try to see if there is how many missing value that is denoted as unknown."
      ]
    },
    {
      "cell_type": "code",
      "source": [
        "df_model[df_model == 'unknown'].count()"
      ],
      "metadata": {
        "colab": {
          "base_uri": "https://localhost:8080/"
        },
        "id": "Bu3jqavKzOgu",
        "outputId": "1cccb386-e4f7-48ce-8c2c-c13281a414c2"
      },
      "execution_count": 215,
      "outputs": [
        {
          "output_type": "execute_result",
          "data": {
            "text/plain": [
              "age            0\n",
              "job           54\n",
              "balance        0\n",
              "housing        0\n",
              "loan           0\n",
              "contact     1636\n",
              "month          0\n",
              "campaign       0\n",
              "pdays          0\n",
              "poutcome    5811\n",
              "deposit        0\n",
              "dtype: int64"
            ]
          },
          "metadata": {},
          "execution_count": 215
        }
      ]
    },
    {
      "cell_type": "markdown",
      "source": [
        "As can be seen, there are some columns in this dataset that contains the unknown value, there is \n",
        "- 54 rows that have unknown value in the job column\n",
        "- 1639 rows that have unknown value in the contact column\n",
        "- 5819 columns that have unknown value in the poutcome column"
      ],
      "metadata": {
        "id": "qOZShbFmzw6w"
      }
    },
    {
      "cell_type": "markdown",
      "source": [
        "However, since unknown value is not a nan or None value, it is still okay to leave it as unknown since it is still a unique value in the column itself. We also cannot drop any of the column with the missing value since in the job column it is really small, and in contact and poutcome, it can be a big factor on the fact of whehther the customer makes a deposit or not during the marketing campaign"
      ],
      "metadata": {
        "id": "Au_XmDopPm2u"
      }
    },
    {
      "cell_type": "markdown",
      "source": [
        "# Outliers"
      ],
      "metadata": {
        "id": "39Q-D6G9s0dC"
      }
    },
    {
      "cell_type": "code",
      "execution_count": 216,
      "metadata": {
        "id": "Pz97Bi5Ln6qv",
        "outputId": "a666559c-be6c-4cc1-a531-8ef29d6587ee",
        "colab": {
          "base_uri": "https://localhost:8080/",
          "height": 285
        }
      },
      "outputs": [
        {
          "output_type": "execute_result",
          "data": {
            "text/plain": [
              "<matplotlib.axes._subplots.AxesSubplot at 0x7f160e884510>"
            ]
          },
          "metadata": {},
          "execution_count": 216
        },
        {
          "output_type": "display_data",
          "data": {
            "text/plain": [
              "<Figure size 432x288 with 1 Axes>"
            ],
            "image/png": "[encoded data removed]"
          },
          "metadata": {
            "needs_background": "light"
          }
        }
      ],
      "source": [
        "df_model.boxplot()"
      ]
    },
    {
      "cell_type": "markdown",
      "metadata": {
        "id": "NeGrOnzkn6qw"
      },
      "source": [
        "From the boxplot above, since balance had a huge range of data, we cannot see the boxplot of age, campaign, and pdays. Thus, we will separate the boxplot to each of the numerical features"
      ]
    },
    {
      "cell_type": "code",
      "source": [
        "fig, axes = plt.subplots(1,4, figsize=(21, 10))\n",
        "sns.boxplot(y = df_model['age'], ax=axes[0])\n",
        "sns.boxplot(y = df_model['balance'], ax=axes[1])\n",
        "sns.boxplot(y = df_model['campaign'], ax=axes[2])\n",
        "sns.boxplot(y = df_model['pdays'], ax=axes[3])\n",
        "axes[0].title.set_text('Boxplot of Age')\n",
        "axes[1].title.set_text('Boxplot of Balance')\n",
        "axes[2].title.set_text('Boxplot of Campaign')\n",
        "axes[3].title.set_text('Boxplot of PDays')\n",
        "plt.show()"
      ],
      "metadata": {
        "id": "AO-aP8fKrlHR",
        "colab": {
          "base_uri": "https://localhost:8080/",
          "height": 594
        },
        "outputId": "a191ac54-ac99-4b22-c905-13fb07d42e90"
      },
      "execution_count": 217,
      "outputs": [
        {
          "output_type": "display_data",
          "data": {
            "text/plain": [
              "<Figure size 1512x720 with 4 Axes>"
            ],
            "image/png": "[encoded data removed]"
          },
          "metadata": {
            "needs_background": "light"
          }
        }
      ]
    },
    {
      "cell_type": "markdown",
      "source": [
        "To handle the outliers, we will drop the datas that exceeded the lower and upper fence, this way, we can eliminate any outliers present in the numerical data"
      ],
      "metadata": {
        "id": "tHoQWpuh5BTh"
      }
    },
    {
      "cell_type": "code",
      "execution_count": 218,
      "metadata": {
        "id": "6RXMR6Z4n6qw",
        "outputId": "6da3288a-56dd-43a0-b40a-035abdaecd59",
        "colab": {
          "base_uri": "https://localhost:8080/",
          "height": 175
        }
      },
      "outputs": [
        {
          "output_type": "execute_result",
          "data": {
            "text/plain": [
              "          Interquartile   Lower   Upper\n",
              "age                17.0     6.5    74.5\n",
              "balance          1557.0 -2208.5  4019.5\n",
              "campaign            2.0    -2.0     6.0\n",
              "pdays              41.0   -62.5   101.5"
            ],
            "text/html": [
              "\n",
              "  <div id=\"df-63158e4f-a970-4713-9c4a-8c31dabc074a\">\n",
              "    <div class=\"colab-df-container\">\n",
              "      <div>\n",
              "<style scoped>\n",
              "    .dataframe tbody tr th:only-of-type {\n",
              "        vertical-align: middle;\n",
              "    }\n",
              "\n",
              "    .dataframe tbody tr th {\n",
              "        vertical-align: top;\n",
              "    }\n",
              "\n",
              "    .dataframe thead th {\n",
              "        text-align: right;\n",
              "    }\n",
              "</style>\n",
              "<table border=\"1\" class=\"dataframe\">\n",
              "  <thead>\n",
              "    <tr style=\"text-align: right;\">\n",
              "      <th></th>\n",
              "      <th>Interquartile</th>\n",
              "      <th>Lower</th>\n",
              "      <th>Upper</th>\n",
              "    </tr>\n",
              "  </thead>\n",
              "  <tbody>\n",
              "    <tr>\n",
              "      <th>age</th>\n",
              "      <td>17.0</td>\n",
              "      <td>6.5</td>\n",
              "      <td>74.5</td>\n",
              "    </tr>\n",
              "    <tr>\n",
              "      <th>balance</th>\n",
              "      <td>1557.0</td>\n",
              "      <td>-2208.5</td>\n",
              "      <td>4019.5</td>\n",
              "    </tr>\n",
              "    <tr>\n",
              "      <th>campaign</th>\n",
              "      <td>2.0</td>\n",
              "      <td>-2.0</td>\n",
              "      <td>6.0</td>\n",
              "    </tr>\n",
              "    <tr>\n",
              "      <th>pdays</th>\n",
              "      <td>41.0</td>\n",
              "      <td>-62.5</td>\n",
              "      <td>101.5</td>\n",
              "    </tr>\n",
              "  </tbody>\n",
              "</table>\n",
              "</div>\n",
              "      <button class=\"colab-df-convert\" onclick=\"convertToInteractive('df-63158e4f-a970-4713-9c4a-8c31dabc074a')\"\n",
              "              title=\"Convert this dataframe to an interactive table.\"\n",
              "              style=\"display:none;\">\n",
              "        \n",
              "  <svg xmlns=\"http://www.w3.org/2000/svg\" height=\"24px\"viewBox=\"0 0 24 24\"\n",
              "       width=\"24px\">\n",
              "    <path d=\"M0 0h24v24H0V0z\" fill=\"none\"/>\n",
              "    <path d=\"M18.56 5.44l.94 2.06.94-2.06 2.06-.94-2.06-.94-.94-2.06-.94 2.06-2.06.94zm-11 1L8.5 8.5l.94-2.06 2.06-.94-2.06-.94L8.5 2.5l-.94 2.06-2.06.94zm10 10l.94 2.06.94-2.06 2.06-.94-2.06-.94-.94-2.06-.94 2.06-2.06.94z\"/><path d=\"M17.41 7.96l-1.37-1.37c-.4-.4-.92-.59-1.43-.59-.52 0-1.04.2-1.43.59L10.3 9.45l-7.72 7.72c-.78.78-.78 2.05 0 2.83L4 21.41c.39.39.9.59 1.41.59.51 0 1.02-.2 1.41-.59l7.78-7.78 2.81-2.81c.8-.78.8-2.07 0-2.86zM5.41 20L4 18.59l7.72-7.72 1.47 1.35L5.41 20z\"/>\n",
              "  </svg>\n",
              "      </button>\n",
              "      \n",
              "  <style>\n",
              "    .colab-df-container {\n",
              "      display:flex;\n",
              "      flex-wrap:wrap;\n",
              "      gap: 12px;\n",
              "    }\n",
              "\n",
              "    .colab-df-convert {\n",
              "      background-color: #E8F0FE;\n",
              "      border: none;\n",
              "      border-radius: 50%;\n",
              "      cursor: pointer;\n",
              "      display: none;\n",
              "      fill: #1967D2;\n",
              "      height: 32px;\n",
              "      padding: 0 0 0 0;\n",
              "      width: 32px;\n",
              "    }\n",
              "\n",
              "    .colab-df-convert:hover {\n",
              "      background-color: #E2EBFA;\n",
              "      box-shadow: 0px 1px 2px rgba(60, 64, 67, 0.3), 0px 1px 3px 1px rgba(60, 64, 67, 0.15);\n",
              "      fill: #174EA6;\n",
              "    }\n",
              "\n",
              "    [theme=dark] .colab-df-convert {\n",
              "      background-color: #3B4455;\n",
              "      fill: #D2E3FC;\n",
              "    }\n",
              "\n",
              "    [theme=dark] .colab-df-convert:hover {\n",
              "      background-color: #434B5C;\n",
              "      box-shadow: 0px 1px 3px 1px rgba(0, 0, 0, 0.15);\n",
              "      filter: drop-shadow(0px 1px 2px rgba(0, 0, 0, 0.3));\n",
              "      fill: #FFFFFF;\n",
              "    }\n",
              "  </style>\n",
              "\n",
              "      <script>\n",
              "        const buttonEl =\n",
              "          document.querySelector('#df-63158e4f-a970-4713-9c4a-8c31dabc074a button.colab-df-convert');\n",
              "        buttonEl.style.display =\n",
              "          google.colab.kernel.accessAllowed ? 'block' : 'none';\n",
              "\n",
              "        async function convertToInteractive(key) {\n",
              "          const element = document.querySelector('#df-63158e4f-a970-4713-9c4a-8c31dabc074a');\n",
              "          const dataTable =\n",
              "            await google.colab.kernel.invokeFunction('convertToInteractive',\n",
              "                                                     [key], {});\n",
              "          if (!dataTable) return;\n",
              "\n",
              "          const docLinkHtml = 'Like what you see? Visit the ' +\n",
              "            '<a target=\"_blank\" href=https://colab.research.google.com/notebooks/data_table.ipynb>data table notebook</a>'\n",
              "            + ' to learn more about interactive tables.';\n",
              "          element.innerHTML = '';\n",
              "          dataTable['output_type'] = 'display_data';\n",
              "          await google.colab.output.renderOutput(dataTable, element);\n",
              "          const docLink = document.createElement('div');\n",
              "          docLink.innerHTML = docLinkHtml;\n",
              "          element.appendChild(docLink);\n",
              "        }\n",
              "      </script>\n",
              "    </div>\n",
              "  </div>\n",
              "  "
            ]
          },
          "metadata": {},
          "execution_count": 218
        }
      ],
      "source": [
        "listItem = []\n",
        "iqr = 0\n",
        "\n",
        "for col in df_num.columns:\n",
        "    iqr = df_num[col].quantile(0.75) - df_num[col].quantile(0.25)\n",
        "    listItem.append([iqr, df_num[col].quantile(0.25) - (1.5 * iqr), df_num[col].quantile(0.75) + (1.5 * iqr)])\n",
        "\n",
        "df_num_qr = pd.DataFrame(columns = ['Interquartile', 'Lower', 'Upper'], data = listItem, index = df_num.columns)\n",
        "df_num_qr"
      ]
    },
    {
      "cell_type": "code",
      "execution_count": 219,
      "metadata": {
        "id": "lPgZ699Kn6qw",
        "outputId": "842bfe5d-ee41-4107-acdd-d2c6aef55935",
        "colab": {
          "base_uri": "https://localhost:8080/",
          "height": 300
        }
      },
      "outputs": [
        {
          "output_type": "execute_result",
          "data": {
            "text/plain": [
              "               age       balance     campaign        pdays\n",
              "count  7813.000000   7813.000000  7813.000000  7813.000000\n",
              "mean     41.257264   1512.448611     2.519775    51.408550\n",
              "std      11.919710   3089.291831     2.727001   108.072739\n",
              "min      18.000000  -6847.000000     1.000000    -1.000000\n",
              "25%      32.000000    127.000000     1.000000    -1.000000\n",
              "50%      39.000000    549.000000     2.000000    -1.000000\n",
              "75%      49.000000   1684.000000     3.000000    40.000000\n",
              "max      95.000000  66653.000000    63.000000   854.000000"
            ],
            "text/html": [
              "\n",
              "  <div id=\"df-06ef75ed-1049-4728-8925-4cb6d62e89d9\">\n",
              "    <div class=\"colab-df-container\">\n",
              "      <div>\n",
              "<style scoped>\n",
              "    .dataframe tbody tr th:only-of-type {\n",
              "        vertical-align: middle;\n",
              "    }\n",
              "\n",
              "    .dataframe tbody tr th {\n",
              "        vertical-align: top;\n",
              "    }\n",
              "\n",
              "    .dataframe thead th {\n",
              "        text-align: right;\n",
              "    }\n",
              "</style>\n",
              "<table border=\"1\" class=\"dataframe\">\n",
              "  <thead>\n",
              "    <tr style=\"text-align: right;\">\n",
              "      <th></th>\n",
              "      <th>age</th>\n",
              "      <th>balance</th>\n",
              "      <th>campaign</th>\n",
              "      <th>pdays</th>\n",
              "    </tr>\n",
              "  </thead>\n",
              "  <tbody>\n",
              "    <tr>\n",
              "      <th>count</th>\n",
              "      <td>7813.000000</td>\n",
              "      <td>7813.000000</td>\n",
              "      <td>7813.000000</td>\n",
              "      <td>7813.000000</td>\n",
              "    </tr>\n",
              "    <tr>\n",
              "      <th>mean</th>\n",
              "      <td>41.257264</td>\n",
              "      <td>1512.448611</td>\n",
              "      <td>2.519775</td>\n",
              "      <td>51.408550</td>\n",
              "    </tr>\n",
              "    <tr>\n",
              "      <th>std</th>\n",
              "      <td>11.919710</td>\n",
              "      <td>3089.291831</td>\n",
              "      <td>2.727001</td>\n",
              "      <td>108.072739</td>\n",
              "    </tr>\n",
              "    <tr>\n",
              "      <th>min</th>\n",
              "      <td>18.000000</td>\n",
              "      <td>-6847.000000</td>\n",
              "      <td>1.000000</td>\n",
              "      <td>-1.000000</td>\n",
              "    </tr>\n",
              "    <tr>\n",
              "      <th>25%</th>\n",
              "      <td>32.000000</td>\n",
              "      <td>127.000000</td>\n",
              "      <td>1.000000</td>\n",
              "      <td>-1.000000</td>\n",
              "    </tr>\n",
              "    <tr>\n",
              "      <th>50%</th>\n",
              "      <td>39.000000</td>\n",
              "      <td>549.000000</td>\n",
              "      <td>2.000000</td>\n",
              "      <td>-1.000000</td>\n",
              "    </tr>\n",
              "    <tr>\n",
              "      <th>75%</th>\n",
              "      <td>49.000000</td>\n",
              "      <td>1684.000000</td>\n",
              "      <td>3.000000</td>\n",
              "      <td>40.000000</td>\n",
              "    </tr>\n",
              "    <tr>\n",
              "      <th>max</th>\n",
              "      <td>95.000000</td>\n",
              "      <td>66653.000000</td>\n",
              "      <td>63.000000</td>\n",
              "      <td>854.000000</td>\n",
              "    </tr>\n",
              "  </tbody>\n",
              "</table>\n",
              "</div>\n",
              "      <button class=\"colab-df-convert\" onclick=\"convertToInteractive('df-06ef75ed-1049-4728-8925-4cb6d62e89d9')\"\n",
              "              title=\"Convert this dataframe to an interactive table.\"\n",
              "              style=\"display:none;\">\n",
              "        \n",
              "  <svg xmlns=\"http://www.w3.org/2000/svg\" height=\"24px\"viewBox=\"0 0 24 24\"\n",
              "       width=\"24px\">\n",
              "    <path d=\"M0 0h24v24H0V0z\" fill=\"none\"/>\n",
              "    <path d=\"M18.56 5.44l.94 2.06.94-2.06 2.06-.94-2.06-.94-.94-2.06-.94 2.06-2.06.94zm-11 1L8.5 8.5l.94-2.06 2.06-.94-2.06-.94L8.5 2.5l-.94 2.06-2.06.94zm10 10l.94 2.06.94-2.06 2.06-.94-2.06-.94-.94-2.06-.94 2.06-2.06.94z\"/><path d=\"M17.41 7.96l-1.37-1.37c-.4-.4-.92-.59-1.43-.59-.52 0-1.04.2-1.43.59L10.3 9.45l-7.72 7.72c-.78.78-.78 2.05 0 2.83L4 21.41c.39.39.9.59 1.41.59.51 0 1.02-.2 1.41-.59l7.78-7.78 2.81-2.81c.8-.78.8-2.07 0-2.86zM5.41 20L4 18.59l7.72-7.72 1.47 1.35L5.41 20z\"/>\n",
              "  </svg>\n",
              "      </button>\n",
              "      \n",
              "  <style>\n",
              "    .colab-df-container {\n",
              "      display:flex;\n",
              "      flex-wrap:wrap;\n",
              "      gap: 12px;\n",
              "    }\n",
              "\n",
              "    .colab-df-convert {\n",
              "      background-color: #E8F0FE;\n",
              "      border: none;\n",
              "      border-radius: 50%;\n",
              "      cursor: pointer;\n",
              "      display: none;\n",
              "      fill: #1967D2;\n",
              "      height: 32px;\n",
              "      padding: 0 0 0 0;\n",
              "      width: 32px;\n",
              "    }\n",
              "\n",
              "    .colab-df-convert:hover {\n",
              "      background-color: #E2EBFA;\n",
              "      box-shadow: 0px 1px 2px rgba(60, 64, 67, 0.3), 0px 1px 3px 1px rgba(60, 64, 67, 0.15);\n",
              "      fill: #174EA6;\n",
              "    }\n",
              "\n",
              "    [theme=dark] .colab-df-convert {\n",
              "      background-color: #3B4455;\n",
              "      fill: #D2E3FC;\n",
              "    }\n",
              "\n",
              "    [theme=dark] .colab-df-convert:hover {\n",
              "      background-color: #434B5C;\n",
              "      box-shadow: 0px 1px 3px 1px rgba(0, 0, 0, 0.15);\n",
              "      filter: drop-shadow(0px 1px 2px rgba(0, 0, 0, 0.3));\n",
              "      fill: #FFFFFF;\n",
              "    }\n",
              "  </style>\n",
              "\n",
              "      <script>\n",
              "        const buttonEl =\n",
              "          document.querySelector('#df-06ef75ed-1049-4728-8925-4cb6d62e89d9 button.colab-df-convert');\n",
              "        buttonEl.style.display =\n",
              "          google.colab.kernel.accessAllowed ? 'block' : 'none';\n",
              "\n",
              "        async function convertToInteractive(key) {\n",
              "          const element = document.querySelector('#df-06ef75ed-1049-4728-8925-4cb6d62e89d9');\n",
              "          const dataTable =\n",
              "            await google.colab.kernel.invokeFunction('convertToInteractive',\n",
              "                                                     [key], {});\n",
              "          if (!dataTable) return;\n",
              "\n",
              "          const docLinkHtml = 'Like what you see? Visit the ' +\n",
              "            '<a target=\"_blank\" href=https://colab.research.google.com/notebooks/data_table.ipynb>data table notebook</a>'\n",
              "            + ' to learn more about interactive tables.';\n",
              "          element.innerHTML = '';\n",
              "          dataTable['output_type'] = 'display_data';\n",
              "          await google.colab.output.renderOutput(dataTable, element);\n",
              "          const docLink = document.createElement('div');\n",
              "          docLink.innerHTML = docLinkHtml;\n",
              "          element.appendChild(docLink);\n",
              "        }\n",
              "      </script>\n",
              "    </div>\n",
              "  </div>\n",
              "  "
            ]
          },
          "metadata": {},
          "execution_count": 219
        }
      ],
      "source": [
        "df_num = df.select_dtypes('number')\n",
        "df_num.describe()"
      ]
    },
    {
      "cell_type": "markdown",
      "metadata": {
        "id": "bMxrmI4en6qx"
      },
      "source": [
        "For the preprocessing of this data, we will try to reduce the amount of outlier that each of the numerical feature of the dataset"
      ]
    },
    {
      "cell_type": "markdown",
      "metadata": {
        "id": "sVnwAiB_n6qx"
      },
      "source": [
        "## Age"
      ]
    },
    {
      "cell_type": "markdown",
      "source": [
        "First we will process age, we first use the describe function to see the summary of the column"
      ],
      "metadata": {
        "id": "YpQNZa90Ehsv"
      }
    },
    {
      "cell_type": "code",
      "source": [
        "df_num['age'].describe()"
      ],
      "metadata": {
        "colab": {
          "base_uri": "https://localhost:8080/"
        },
        "id": "zHcTyVBFERjY",
        "outputId": "943cdde4-056c-4c22-b530-0890b22cb6c9"
      },
      "execution_count": 220,
      "outputs": [
        {
          "output_type": "execute_result",
          "data": {
            "text/plain": [
              "count    7813.000000\n",
              "mean       41.257264\n",
              "std        11.919710\n",
              "min        18.000000\n",
              "25%        32.000000\n",
              "50%        39.000000\n",
              "75%        49.000000\n",
              "max        95.000000\n",
              "Name: age, dtype: float64"
            ]
          },
          "metadata": {},
          "execution_count": 220
        }
      ]
    },
    {
      "cell_type": "markdown",
      "source": [
        "It can be seen that the median of the age is 39 years old and it has a maximum amount of 95 years old. Next, we will see the interquartile and the upper and lower fence value to remove the outlier in age"
      ],
      "metadata": {
        "id": "U3yrMqqUEr7M"
      }
    },
    {
      "cell_type": "code",
      "source": [
        "df_num_qr.iloc[0]"
      ],
      "metadata": {
        "colab": {
          "base_uri": "https://localhost:8080/"
        },
        "id": "92aK0_juEYwX",
        "outputId": "a38dbedd-86e1-4f5c-bbdc-67af72d49faf"
      },
      "execution_count": 221,
      "outputs": [
        {
          "output_type": "execute_result",
          "data": {
            "text/plain": [
              "Interquartile    17.0\n",
              "Lower             6.5\n",
              "Upper            74.5\n",
              "Name: age, dtype: float64"
            ]
          },
          "metadata": {},
          "execution_count": 221
        }
      ]
    },
    {
      "cell_type": "markdown",
      "source": [
        "As the lower fence has a value 6.5 while the minimum value for age is 18 years old, we don't need to remove lower values but, since the upper fence had a value of 74.5 and the data has a maximum of 74.5, we will remove any rows that contains the age of over 95"
      ],
      "metadata": {
        "id": "v4N2adPAE5Mq"
      }
    },
    {
      "cell_type": "code",
      "execution_count": 222,
      "metadata": {
        "id": "dYd0KMzan6qx",
        "outputId": "5800fc5e-c18f-42b0-9680-c5dbf8b4972a",
        "colab": {
          "base_uri": "https://localhost:8080/",
          "height": 404
        }
      },
      "outputs": [
        {
          "output_type": "display_data",
          "data": {
            "text/plain": [
              "<Figure size 576x432 with 1 Axes>"
            ],
            "image/png": "[encoded data removed]"
          },
          "metadata": {
            "needs_background": "light"
          }
        }
      ],
      "source": [
        "plt.figure(figsize = (8, 6))\n",
        "sns.histplot(df_model['age'])\n",
        "plt.title('Histogram of Age Before the Removal of Outliers')\n",
        "plt.show()"
      ]
    },
    {
      "cell_type": "code",
      "execution_count": 223,
      "metadata": {
        "id": "K98iO7P1n6qy",
        "outputId": "2fa8f8e1-4cdb-4317-e692-c95d042d1137",
        "colab": {
          "base_uri": "https://localhost:8080/"
        }
      },
      "outputs": [
        {
          "output_type": "execute_result",
          "data": {
            "text/plain": [
              "121"
            ]
          },
          "metadata": {},
          "execution_count": 223
        }
      ],
      "source": [
        "df_model[df_model['age'] > 74.5]['deposit'].count()"
      ]
    },
    {
      "cell_type": "code",
      "execution_count": 224,
      "metadata": {
        "id": "GeJoD-z7n6qy"
      },
      "outputs": [],
      "source": [
        "df_model = df_model[df_model['age'] <= 74.5]"
      ]
    },
    {
      "cell_type": "code",
      "execution_count": 225,
      "metadata": {
        "id": "YooxFmd4n6qy",
        "outputId": "df9e998e-b7af-4eea-a1eb-6d523cb938eb",
        "colab": {
          "base_uri": "https://localhost:8080/",
          "height": 404
        }
      },
      "outputs": [
        {
          "output_type": "display_data",
          "data": {
            "text/plain": [
              "<Figure size 576x432 with 1 Axes>"
            ],
            "image/png": "[encoded data removed]"
          },
          "metadata": {
            "needs_background": "light"
          }
        }
      ],
      "source": [
        "plt.figure(figsize = (8, 6))\n",
        "sns.histplot(df_model['age'])\n",
        "plt.title('Histogram of Age After the Removal of Outliers')\n",
        "plt.show()"
      ]
    },
    {
      "cell_type": "markdown",
      "metadata": {
        "id": "Q3djXKyvn6qy"
      },
      "source": [
        "## Balance"
      ]
    },
    {
      "cell_type": "code",
      "source": [
        "df_num['balance'].describe()"
      ],
      "metadata": {
        "colab": {
          "base_uri": "https://localhost:8080/"
        },
        "id": "Otz9_JLuF81C",
        "outputId": "e96ec94a-6798-4ea5-918f-863be0905ff2"
      },
      "execution_count": 226,
      "outputs": [
        {
          "output_type": "execute_result",
          "data": {
            "text/plain": [
              "count     7813.000000\n",
              "mean      1512.448611\n",
              "std       3089.291831\n",
              "min      -6847.000000\n",
              "25%        127.000000\n",
              "50%        549.000000\n",
              "75%       1684.000000\n",
              "max      66653.000000\n",
              "Name: balance, dtype: float64"
            ]
          },
          "metadata": {},
          "execution_count": 226
        }
      ]
    },
    {
      "cell_type": "markdown",
      "source": [
        "It can be seen that the median of the balance is 549 and it has a maximum amount of 66653. Next, we will see the interquartile and the upper and lower fence value to remove the outlier in age:"
      ],
      "metadata": {
        "id": "rj0RMT26fzvR"
      }
    },
    {
      "cell_type": "code",
      "source": [
        "df_num_qr.iloc[1]"
      ],
      "metadata": {
        "colab": {
          "base_uri": "https://localhost:8080/"
        },
        "id": "K3EkdzI9GAv3",
        "outputId": "af236c4a-3256-4dce-db37-8d992107289c"
      },
      "execution_count": 227,
      "outputs": [
        {
          "output_type": "execute_result",
          "data": {
            "text/plain": [
              "Interquartile    1557.0\n",
              "Lower           -2208.5\n",
              "Upper            4019.5\n",
              "Name: balance, dtype: float64"
            ]
          },
          "metadata": {},
          "execution_count": 227
        }
      ]
    },
    {
      "cell_type": "markdown",
      "source": [
        "As the lower fence has a value -2208.5 while the minimum value for age is -6847 years old, we need to remove lower values and, since the upper fence had a value of 4019.5 and the data has a maximum of 66653, we will remove any rows that contains the age of over 4019.5.\n",
        "\n",
        "But, we need to check the histogram to see whether the value of 4019.5 had a high count or not"
      ],
      "metadata": {
        "id": "Qn7P9XY1ltpM"
      }
    },
    {
      "cell_type": "markdown",
      "source": [
        "Next, we will plot the histogram of balance to see how the distribution of value is"
      ],
      "metadata": {
        "id": "EUXoJONSf9jQ"
      }
    },
    {
      "cell_type": "code",
      "execution_count": 228,
      "metadata": {
        "id": "2IgD6UGCn6qz",
        "outputId": "3769db02-baed-4df8-d33d-d66ff48af130",
        "colab": {
          "base_uri": "https://localhost:8080/",
          "height": 404
        }
      },
      "outputs": [
        {
          "output_type": "display_data",
          "data": {
            "text/plain": [
              "<Figure size 576x432 with 1 Axes>"
            ],
            "image/png": "[encoded data removed]"
          },
          "metadata": {
            "needs_background": "light"
          }
        }
      ],
      "source": [
        "plt.figure(figsize = (8, 6))\n",
        "sns.histplot(df_model['balance'])\n",
        "plt.title('Histogram of Balance Before the Removal of Outliers')\n",
        "plt.show()"
      ]
    },
    {
      "cell_type": "markdown",
      "source": [
        "It can be seen that, the histogram itself is highly right skewed. Although, the outlier is above 4019.5, the dataset still contains a quite large amount of data in the range of 4000 to 15000, thus the upper, but thel lower outlier is still followed with -2208.5"
      ],
      "metadata": {
        "id": "aW5ehw7JgElx"
      }
    },
    {
      "cell_type": "code",
      "execution_count": 229,
      "metadata": {
        "id": "KHhawS8tn6qz",
        "outputId": "1a3c7bc9-8d35-4881-b64f-7a2afcb6e37c",
        "colab": {
          "base_uri": "https://localhost:8080/"
        }
      },
      "outputs": [
        {
          "output_type": "execute_result",
          "data": {
            "text/plain": [
              "60"
            ]
          },
          "metadata": {},
          "execution_count": 229
        }
      ],
      "source": [
        "df_model[df_model['balance'] > 15000]['deposit'].count()"
      ]
    },
    {
      "cell_type": "code",
      "execution_count": 230,
      "metadata": {
        "id": "BCaXgbcCn6qz",
        "outputId": "2c086950-76d9-4f34-f124-208133239750",
        "colab": {
          "base_uri": "https://localhost:8080/"
        }
      },
      "outputs": [
        {
          "output_type": "execute_result",
          "data": {
            "text/plain": [
              "3"
            ]
          },
          "metadata": {},
          "execution_count": 230
        }
      ],
      "source": [
        "df_model[df_model['balance'] < -2208.5]['deposit'].count()"
      ]
    },
    {
      "cell_type": "code",
      "execution_count": 231,
      "metadata": {
        "id": "zNIRF8oAn6qz"
      },
      "outputs": [],
      "source": [
        "df_model = df_model[df_model['balance'] <= 15000]\n",
        "df_model = df_model[df_model['balance'] >= -2208.5]"
      ]
    },
    {
      "cell_type": "code",
      "execution_count": 232,
      "metadata": {
        "id": "y7c3qoeOn6qz",
        "outputId": "a652a4b0-db1c-4405-9c9e-3936dcaf40a1",
        "colab": {
          "base_uri": "https://localhost:8080/",
          "height": 404
        }
      },
      "outputs": [
        {
          "output_type": "display_data",
          "data": {
            "text/plain": [
              "<Figure size 576x432 with 1 Axes>"
            ],
            "image/png": "[encoded data removed]"
          },
          "metadata": {
            "needs_background": "light"
          }
        }
      ],
      "source": [
        "plt.figure(figsize = (8, 6))\n",
        "sns.histplot(df_model['balance'])\n",
        "plt.title('Histogram of Balance After the Removal of Outliers')\n",
        "plt.show()"
      ]
    },
    {
      "cell_type": "markdown",
      "source": [
        "As can be seen above, although the histogram is still right-skewed, it is better, since the amount of people that have a balance between 4000 and 15000 is still quite large, it is better to not drop the one with balnce of of 4000 to 15000"
      ],
      "metadata": {
        "id": "Ode7Ys33QOPQ"
      }
    },
    {
      "cell_type": "markdown",
      "metadata": {
        "id": "bU3J3kAxn6q0"
      },
      "source": [
        "## Campaign"
      ]
    },
    {
      "cell_type": "code",
      "source": [
        "df_num['campaign'].describe()"
      ],
      "metadata": {
        "colab": {
          "base_uri": "https://localhost:8080/"
        },
        "id": "BS5EHWYUGKn9",
        "outputId": "812027d5-d36b-4b74-ee56-94b3fecab447"
      },
      "execution_count": 233,
      "outputs": [
        {
          "output_type": "execute_result",
          "data": {
            "text/plain": [
              "count    7813.000000\n",
              "mean        2.519775\n",
              "std         2.727001\n",
              "min         1.000000\n",
              "25%         1.000000\n",
              "50%         2.000000\n",
              "75%         3.000000\n",
              "max        63.000000\n",
              "Name: campaign, dtype: float64"
            ]
          },
          "metadata": {},
          "execution_count": 233
        }
      ]
    },
    {
      "cell_type": "markdown",
      "source": [
        "It can be seen that the median of the campaign is 2 and it has a maximum amount of 63. Next, we will see the interquartile and the upper and lower fence value to remove the outlier in campaign:"
      ],
      "metadata": {
        "id": "SoBDnUVClgTj"
      }
    },
    {
      "cell_type": "code",
      "source": [
        "df_num_qr.iloc[2]"
      ],
      "metadata": {
        "colab": {
          "base_uri": "https://localhost:8080/"
        },
        "id": "YYyaSatUGMZT",
        "outputId": "fec166a1-bade-4018-beb4-389cec55522f"
      },
      "execution_count": 234,
      "outputs": [
        {
          "output_type": "execute_result",
          "data": {
            "text/plain": [
              "Interquartile    2.0\n",
              "Lower           -2.0\n",
              "Upper            6.0\n",
              "Name: campaign, dtype: float64"
            ]
          },
          "metadata": {},
          "execution_count": 234
        }
      ]
    },
    {
      "cell_type": "markdown",
      "source": [
        "As the lower fence has a value -2 while the minimum value for campaign is 1, we do not need to remove lower values and, since the upper fence had a value of 6 and the data has a maximum of 63, we will remove any rows that contains the age of over 6.\n",
        "\n",
        "But, we need to check the histogram to see whether the value of higher than 6 had a high count or not"
      ],
      "metadata": {
        "id": "hJ7fKx2flkQg"
      }
    },
    {
      "cell_type": "code",
      "execution_count": 235,
      "metadata": {
        "id": "faNJ4XMxn6q0",
        "outputId": "23b5fdf9-d5ff-45a7-f86d-77db0bf8f8d0",
        "colab": {
          "base_uri": "https://localhost:8080/",
          "height": 404
        }
      },
      "outputs": [
        {
          "output_type": "display_data",
          "data": {
            "text/plain": [
              "<Figure size 576x432 with 1 Axes>"
            ],
            "image/png": "[encoded data removed]"
          },
          "metadata": {
            "needs_background": "light"
          }
        }
      ],
      "source": [
        "plt.figure(figsize = (8, 6))\n",
        "sns.histplot(df_model['campaign'])\n",
        "plt.title('Histogram of Campaign Before the Removal of Outliers')\n",
        "plt.show()"
      ]
    },
    {
      "cell_type": "markdown",
      "source": [
        "It can be seen from the histogram above, campaign value of 6 to 10 still had a quite large amount of count, thus, we will drop campaign value of higher than 10"
      ],
      "metadata": {
        "id": "59MRWL-Jmog9"
      }
    },
    {
      "cell_type": "code",
      "execution_count": 236,
      "metadata": {
        "id": "Gr2aqNzvn6q1",
        "outputId": "5f51b83a-ae1c-4bfe-8394-23bd54cb20c6",
        "colab": {
          "base_uri": "https://localhost:8080/"
        }
      },
      "outputs": [
        {
          "output_type": "execute_result",
          "data": {
            "text/plain": [
              "144"
            ]
          },
          "metadata": {},
          "execution_count": 236
        }
      ],
      "source": [
        "df_model[df_model['campaign'] > 10]['deposit'].count()"
      ]
    },
    {
      "cell_type": "code",
      "execution_count": 237,
      "metadata": {
        "id": "s2MHTa8mn6q1"
      },
      "outputs": [],
      "source": [
        "df_model = df_model[df_model['campaign'] <= 10]"
      ]
    },
    {
      "cell_type": "code",
      "execution_count": 238,
      "metadata": {
        "id": "ZjqeUbynn6q1",
        "outputId": "149d1bce-f602-496c-ff68-b009a2c0772c",
        "colab": {
          "base_uri": "https://localhost:8080/",
          "height": 404
        }
      },
      "outputs": [
        {
          "output_type": "display_data",
          "data": {
            "text/plain": [
              "<Figure size 576x432 with 1 Axes>"
            ],
            "image/png": "[encoded data removed]"
          },
          "metadata": {
            "needs_background": "light"
          }
        }
      ],
      "source": [
        "plt.figure(figsize = (8, 6))\n",
        "sns.histplot(df_model['campaign'])\n",
        "plt.title('Histogram of Campaign After the Removal of Outliers')\n",
        "plt.show()"
      ]
    },
    {
      "cell_type": "markdown",
      "metadata": {
        "id": "lv8aEF7An6q2"
      },
      "source": [
        "## pdays"
      ]
    },
    {
      "cell_type": "code",
      "source": [
        "df_num['pdays'].describe()"
      ],
      "metadata": {
        "colab": {
          "base_uri": "https://localhost:8080/"
        },
        "id": "gr1bgnQrGeIP",
        "outputId": "01692f0f-f08e-45b0-fe19-fbfc6994fad9"
      },
      "execution_count": 239,
      "outputs": [
        {
          "output_type": "execute_result",
          "data": {
            "text/plain": [
              "count    7813.000000\n",
              "mean       51.408550\n",
              "std       108.072739\n",
              "min        -1.000000\n",
              "25%        -1.000000\n",
              "50%        -1.000000\n",
              "75%        40.000000\n",
              "max       854.000000\n",
              "Name: pdays, dtype: float64"
            ]
          },
          "metadata": {},
          "execution_count": 239
        }
      ]
    },
    {
      "cell_type": "markdown",
      "source": [
        "It can be seen that the median of the pdays is -1 and it has a maximum amount of 854. Next, we will see the interquartile and the upper and lower fence value to remove the outlier in campaign:"
      ],
      "metadata": {
        "id": "fLEgsJf165Yr"
      }
    },
    {
      "cell_type": "code",
      "source": [
        "df_num_qr.iloc[3]"
      ],
      "metadata": {
        "colab": {
          "base_uri": "https://localhost:8080/"
        },
        "id": "SwIonf83GgTq",
        "outputId": "722566d5-066d-4d09-9f74-b874a8944d68"
      },
      "execution_count": 240,
      "outputs": [
        {
          "output_type": "execute_result",
          "data": {
            "text/plain": [
              "Interquartile     41.0\n",
              "Lower            -62.5\n",
              "Upper            101.5\n",
              "Name: pdays, dtype: float64"
            ]
          },
          "metadata": {},
          "execution_count": 240
        }
      ]
    },
    {
      "cell_type": "markdown",
      "source": [
        "As the lower fence has a value -62.5 while the minimum value for campaign is -1, we do not need to remove lower values and, since the upper fence had a value of 101.5 and the data has a maximum of 854, we will remove any rows that contains the pdays of over 101.5.\n",
        "\n",
        "But, we need to check the histogram to see whether the value of higher than 101.5 had a high count or not"
      ],
      "metadata": {
        "id": "jkLXiHRO69GR"
      }
    },
    {
      "cell_type": "code",
      "execution_count": 241,
      "metadata": {
        "id": "vMyNp2H-n6q2",
        "outputId": "a1edd981-418a-4948-bc1f-f22fe0cdd719",
        "colab": {
          "base_uri": "https://localhost:8080/",
          "height": 404
        }
      },
      "outputs": [
        {
          "output_type": "display_data",
          "data": {
            "text/plain": [
              "<Figure size 576x432 with 1 Axes>"
            ],
            "image/png": "[encoded data removed]"
          },
          "metadata": {
            "needs_background": "light"
          }
        }
      ],
      "source": [
        "plt.figure(figsize = (8, 6))\n",
        "sns.histplot(df_model['pdays'])\n",
        "plt.title('Histogram of PDays Before the Removal of Outliers')\n",
        "plt.show()"
      ]
    },
    {
      "cell_type": "markdown",
      "source": [
        "From above histogram we can see thre is tow spikes in the count between the 0 to 200 pdays, so, since the count of the value of above 101.5 but below 200 had that spike it is better to remove the data with pdays of over 200 "
      ],
      "metadata": {
        "id": "VjkoPdj87JfS"
      }
    },
    {
      "cell_type": "code",
      "execution_count": 242,
      "metadata": {
        "id": "p7fRNjfen6q2",
        "outputId": "d3831093-df55-4259-b370-0a80223edb06",
        "colab": {
          "base_uri": "https://localhost:8080/"
        }
      },
      "outputs": [
        {
          "output_type": "execute_result",
          "data": {
            "text/plain": [
              "704"
            ]
          },
          "metadata": {},
          "execution_count": 242
        }
      ],
      "source": [
        "df_model[df_model['pdays'] > 200]['deposit'].count()"
      ]
    },
    {
      "cell_type": "code",
      "execution_count": 243,
      "metadata": {
        "id": "70slH_h9n6q_"
      },
      "outputs": [],
      "source": [
        "df_model = df_model[df_model['pdays'] <= 200]"
      ]
    },
    {
      "cell_type": "code",
      "execution_count": 244,
      "metadata": {
        "id": "ybiaxeLGn6q_",
        "outputId": "2e674e04-ff49-44e7-f9a7-3199081a030c",
        "colab": {
          "base_uri": "https://localhost:8080/",
          "height": 404
        }
      },
      "outputs": [
        {
          "output_type": "display_data",
          "data": {
            "text/plain": [
              "<Figure size 576x432 with 1 Axes>"
            ],
            "image/png": "[encoded data removed]"
          },
          "metadata": {
            "needs_background": "light"
          }
        }
      ],
      "source": [
        "plt.figure(figsize = (8, 6))\n",
        "sns.histplot(df_model['pdays'])\n",
        "plt.title('Histogram of PDays After the Removal of Outliers')\n",
        "plt.show()"
      ]
    },
    {
      "cell_type": "markdown",
      "metadata": {
        "id": "x62Mzx6On6q_"
      },
      "source": [
        "# Cleaned Dataset"
      ]
    },
    {
      "cell_type": "code",
      "execution_count": 245,
      "metadata": {
        "id": "m9CPBiPBn6rA",
        "outputId": "504a6756-c025-4e88-bb69-a76c83ba7bbc",
        "colab": {
          "base_uri": "https://localhost:8080/",
          "height": 206
        }
      },
      "outputs": [
        {
          "output_type": "execute_result",
          "data": {
            "text/plain": [
              "   age        job  balance housing loan    contact month  campaign  pdays  \\\n",
              "0   55     admin.     1662      no   no   cellular   jun         2     -1   \n",
              "3   38   services      -87     yes   no   cellular   may         1     -1   \n",
              "4   36  housemaid      205     yes   no  telephone   nov         4     -1   \n",
              "5   41     admin.      -76     yes   no   cellular   apr         1     -1   \n",
              "6   37     admin.     4803      no   no   cellular   jan         2     -1   \n",
              "\n",
              "  poutcome deposit  \n",
              "0  unknown     yes  \n",
              "3  unknown      no  \n",
              "4  unknown      no  \n",
              "5  unknown      no  \n",
              "6  unknown     yes  "
            ],
            "text/html": [
              "\n",
              "  <div id=\"df-117c39fa-4a76-4c6e-8576-062b1cc67af6\">\n",
              "    <div class=\"colab-df-container\">\n",
              "      <div>\n",
              "<style scoped>\n",
              "    .dataframe tbody tr th:only-of-type {\n",
              "        vertical-align: middle;\n",
              "    }\n",
              "\n",
              "    .dataframe tbody tr th {\n",
              "        vertical-align: top;\n",
              "    }\n",
              "\n",
              "    .dataframe thead th {\n",
              "        text-align: right;\n",
              "    }\n",
              "</style>\n",
              "<table border=\"1\" class=\"dataframe\">\n",
              "  <thead>\n",
              "    <tr style=\"text-align: right;\">\n",
              "      <th></th>\n",
              "      <th>age</th>\n",
              "      <th>job</th>\n",
              "      <th>balance</th>\n",
              "      <th>housing</th>\n",
              "      <th>loan</th>\n",
              "      <th>contact</th>\n",
              "      <th>month</th>\n",
              "      <th>campaign</th>\n",
              "      <th>pdays</th>\n",
              "      <th>poutcome</th>\n",
              "      <th>deposit</th>\n",
              "    </tr>\n",
              "  </thead>\n",
              "  <tbody>\n",
              "    <tr>\n",
              "      <th>0</th>\n",
              "      <td>55</td>\n",
              "      <td>admin.</td>\n",
              "      <td>1662</td>\n",
              "      <td>no</td>\n",
              "      <td>no</td>\n",
              "      <td>cellular</td>\n",
              "      <td>jun</td>\n",
              "      <td>2</td>\n",
              "      <td>-1</td>\n",
              "      <td>unknown</td>\n",
              "      <td>yes</td>\n",
              "    </tr>\n",
              "    <tr>\n",
              "      <th>3</th>\n",
              "      <td>38</td>\n",
              "      <td>services</td>\n",
              "      <td>-87</td>\n",
              "      <td>yes</td>\n",
              "      <td>no</td>\n",
              "      <td>cellular</td>\n",
              "      <td>may</td>\n",
              "      <td>1</td>\n",
              "      <td>-1</td>\n",
              "      <td>unknown</td>\n",
              "      <td>no</td>\n",
              "    </tr>\n",
              "    <tr>\n",
              "      <th>4</th>\n",
              "      <td>36</td>\n",
              "      <td>housemaid</td>\n",
              "      <td>205</td>\n",
              "      <td>yes</td>\n",
              "      <td>no</td>\n",
              "      <td>telephone</td>\n",
              "      <td>nov</td>\n",
              "      <td>4</td>\n",
              "      <td>-1</td>\n",
              "      <td>unknown</td>\n",
              "      <td>no</td>\n",
              "    </tr>\n",
              "    <tr>\n",
              "      <th>5</th>\n",
              "      <td>41</td>\n",
              "      <td>admin.</td>\n",
              "      <td>-76</td>\n",
              "      <td>yes</td>\n",
              "      <td>no</td>\n",
              "      <td>cellular</td>\n",
              "      <td>apr</td>\n",
              "      <td>1</td>\n",
              "      <td>-1</td>\n",
              "      <td>unknown</td>\n",
              "      <td>no</td>\n",
              "    </tr>\n",
              "    <tr>\n",
              "      <th>6</th>\n",
              "      <td>37</td>\n",
              "      <td>admin.</td>\n",
              "      <td>4803</td>\n",
              "      <td>no</td>\n",
              "      <td>no</td>\n",
              "      <td>cellular</td>\n",
              "      <td>jan</td>\n",
              "      <td>2</td>\n",
              "      <td>-1</td>\n",
              "      <td>unknown</td>\n",
              "      <td>yes</td>\n",
              "    </tr>\n",
              "  </tbody>\n",
              "</table>\n",
              "</div>\n",
              "      <button class=\"colab-df-convert\" onclick=\"convertToInteractive('df-117c39fa-4a76-4c6e-8576-062b1cc67af6')\"\n",
              "              title=\"Convert this dataframe to an interactive table.\"\n",
              "              style=\"display:none;\">\n",
              "        \n",
              "  <svg xmlns=\"http://www.w3.org/2000/svg\" height=\"24px\"viewBox=\"0 0 24 24\"\n",
              "       width=\"24px\">\n",
              "    <path d=\"M0 0h24v24H0V0z\" fill=\"none\"/>\n",
              "    <path d=\"M18.56 5.44l.94 2.06.94-2.06 2.06-.94-2.06-.94-.94-2.06-.94 2.06-2.06.94zm-11 1L8.5 8.5l.94-2.06 2.06-.94-2.06-.94L8.5 2.5l-.94 2.06-2.06.94zm10 10l.94 2.06.94-2.06 2.06-.94-2.06-.94-.94-2.06-.94 2.06-2.06.94z\"/><path d=\"M17.41 7.96l-1.37-1.37c-.4-.4-.92-.59-1.43-.59-.52 0-1.04.2-1.43.59L10.3 9.45l-7.72 7.72c-.78.78-.78 2.05 0 2.83L4 21.41c.39.39.9.59 1.41.59.51 0 1.02-.2 1.41-.59l7.78-7.78 2.81-2.81c.8-.78.8-2.07 0-2.86zM5.41 20L4 18.59l7.72-7.72 1.47 1.35L5.41 20z\"/>\n",
              "  </svg>\n",
              "      </button>\n",
              "      \n",
              "  <style>\n",
              "    .colab-df-container {\n",
              "      display:flex;\n",
              "      flex-wrap:wrap;\n",
              "      gap: 12px;\n",
              "    }\n",
              "\n",
              "    .colab-df-convert {\n",
              "      background-color: #E8F0FE;\n",
              "      border: none;\n",
              "      border-radius: 50%;\n",
              "      cursor: pointer;\n",
              "      display: none;\n",
              "      fill: #1967D2;\n",
              "      height: 32px;\n",
              "      padding: 0 0 0 0;\n",
              "      width: 32px;\n",
              "    }\n",
              "\n",
              "    .colab-df-convert:hover {\n",
              "      background-color: #E2EBFA;\n",
              "      box-shadow: 0px 1px 2px rgba(60, 64, 67, 0.3), 0px 1px 3px 1px rgba(60, 64, 67, 0.15);\n",
              "      fill: #174EA6;\n",
              "    }\n",
              "\n",
              "    [theme=dark] .colab-df-convert {\n",
              "      background-color: #3B4455;\n",
              "      fill: #D2E3FC;\n",
              "    }\n",
              "\n",
              "    [theme=dark] .colab-df-convert:hover {\n",
              "      background-color: #434B5C;\n",
              "      box-shadow: 0px 1px 3px 1px rgba(0, 0, 0, 0.15);\n",
              "      filter: drop-shadow(0px 1px 2px rgba(0, 0, 0, 0.3));\n",
              "      fill: #FFFFFF;\n",
              "    }\n",
              "  </style>\n",
              "\n",
              "      <script>\n",
              "        const buttonEl =\n",
              "          document.querySelector('#df-117c39fa-4a76-4c6e-8576-062b1cc67af6 button.colab-df-convert');\n",
              "        buttonEl.style.display =\n",
              "          google.colab.kernel.accessAllowed ? 'block' : 'none';\n",
              "\n",
              "        async function convertToInteractive(key) {\n",
              "          const element = document.querySelector('#df-117c39fa-4a76-4c6e-8576-062b1cc67af6');\n",
              "          const dataTable =\n",
              "            await google.colab.kernel.invokeFunction('convertToInteractive',\n",
              "                                                     [key], {});\n",
              "          if (!dataTable) return;\n",
              "\n",
              "          const docLinkHtml = 'Like what you see? Visit the ' +\n",
              "            '<a target=\"_blank\" href=https://colab.research.google.com/notebooks/data_table.ipynb>data table notebook</a>'\n",
              "            + ' to learn more about interactive tables.';\n",
              "          element.innerHTML = '';\n",
              "          dataTable['output_type'] = 'display_data';\n",
              "          await google.colab.output.renderOutput(dataTable, element);\n",
              "          const docLink = document.createElement('div');\n",
              "          docLink.innerHTML = docLinkHtml;\n",
              "          element.appendChild(docLink);\n",
              "        }\n",
              "      </script>\n",
              "    </div>\n",
              "  </div>\n",
              "  "
            ]
          },
          "metadata": {},
          "execution_count": 245
        }
      ],
      "source": [
        "df_model.head()"
      ]
    },
    {
      "cell_type": "code",
      "execution_count": 246,
      "metadata": {
        "id": "Bs6LfcQKn6rA",
        "outputId": "9e22b26a-69a0-4ea4-b80f-c6684bf0958d",
        "colab": {
          "base_uri": "https://localhost:8080/"
        }
      },
      "outputs": [
        {
          "output_type": "stream",
          "name": "stdout",
          "text": [
            "<class 'pandas.core.frame.DataFrame'>\n",
            "Int64Index: 6773 entries, 0 to 7812\n",
            "Data columns (total 11 columns):\n",
            " #   Column    Non-Null Count  Dtype \n",
            "---  ------    --------------  ----- \n",
            " 0   age       6773 non-null   int64 \n",
            " 1   job       6773 non-null   object\n",
            " 2   balance   6773 non-null   int64 \n",
            " 3   housing   6773 non-null   object\n",
            " 4   loan      6773 non-null   object\n",
            " 5   contact   6773 non-null   object\n",
            " 6   month     6773 non-null   object\n",
            " 7   campaign  6773 non-null   int64 \n",
            " 8   pdays     6773 non-null   int64 \n",
            " 9   poutcome  6773 non-null   object\n",
            " 10  deposit   6773 non-null   object\n",
            "dtypes: int64(4), object(7)\n",
            "memory usage: 635.0+ KB\n"
          ]
        }
      ],
      "source": [
        "df_model.info()"
      ]
    },
    {
      "cell_type": "markdown",
      "source": [
        "After the removal of all the outliers, it can be seen that the new dataframe had 6773 rows, thus, 1140 rows are removed from the outlier removal by checking the interquartile method"
      ],
      "metadata": {
        "id": "a6McEzX8HZYF"
      }
    },
    {
      "cell_type": "markdown",
      "metadata": {
        "id": "8p5SBByAn6rB"
      },
      "source": [
        "# Modellling"
      ]
    },
    {
      "cell_type": "markdown",
      "source": [
        "Next, we will go to the modelling step, first we will import all the necessary libraries and functions to create model, pipeline, encoding and evaluate the resulting model"
      ],
      "metadata": {
        "id": "lDkxCBnP04TI"
      }
    },
    {
      "cell_type": "code",
      "source": [
        "pip install category_encoders"
      ],
      "metadata": {
        "colab": {
          "base_uri": "https://localhost:8080/"
        },
        "id": "XeqoawTuj8Ma",
        "outputId": "c2d23859-5a3b-499a-d73f-03f1ca9d9f12"
      },
      "execution_count": 247,
      "outputs": [
        {
          "output_type": "stream",
          "name": "stdout",
          "text": [
            "Looking in indexes: https://pypi.org/simple, https://us-python.pkg.dev/colab-wheels/public/simple/\n",
            "Requirement already satisfied: category_encoders in /usr/local/lib/python3.7/dist-packages (2.5.1.post0)\n",
            "Requirement already satisfied: numpy>=1.14.0 in /usr/local/lib/python3.7/dist-packages (from category_encoders) (1.21.6)\n",
            "Requirement already satisfied: statsmodels>=0.9.0 in /usr/local/lib/python3.7/dist-packages (from category_encoders) (0.12.2)\n",
            "Requirement already satisfied: pandas>=1.0.5 in /usr/local/lib/python3.7/dist-packages (from category_encoders) (1.3.5)\n",
            "Requirement already satisfied: scikit-learn>=0.20.0 in /usr/local/lib/python3.7/dist-packages (from category_encoders) (1.0.2)\n",
            "Requirement already satisfied: patsy>=0.5.1 in /usr/local/lib/python3.7/dist-packages (from category_encoders) (0.5.3)\n",
            "Requirement already satisfied: scipy>=1.0.0 in /usr/local/lib/python3.7/dist-packages (from category_encoders) (1.7.3)\n",
            "Requirement already satisfied: pytz>=2017.3 in /usr/local/lib/python3.7/dist-packages (from pandas>=1.0.5->category_encoders) (2022.4)\n",
            "Requirement already satisfied: python-dateutil>=2.7.3 in /usr/local/lib/python3.7/dist-packages (from pandas>=1.0.5->category_encoders) (2.8.2)\n",
            "Requirement already satisfied: six in /usr/local/lib/python3.7/dist-packages (from patsy>=0.5.1->category_encoders) (1.15.0)\n",
            "Requirement already satisfied: threadpoolctl>=2.0.0 in /usr/local/lib/python3.7/dist-packages (from scikit-learn>=0.20.0->category_encoders) (3.1.0)\n",
            "Requirement already satisfied: joblib>=0.11 in /usr/local/lib/python3.7/dist-packages (from scikit-learn>=0.20.0->category_encoders) (1.2.0)\n"
          ]
        }
      ]
    },
    {
      "cell_type": "code",
      "execution_count": 248,
      "metadata": {
        "id": "LLFFtl3Yn6rB"
      },
      "outputs": [],
      "source": [
        "# Model Selection Libraries\n",
        "from sklearn.model_selection import train_test_split, cross_val_score, RandomizedSearchCV, StratifiedKFold, KFold\n",
        "\n",
        "# Encoding Libraries\n",
        "import category_encoders as ce\n",
        "from sklearn.preprocessing import OneHotEncoder, LabelEncoder\n",
        "from sklearn.compose import ColumnTransformer\n",
        "from sklearn.pipeline import Pipeline\n",
        "\n",
        "# Scaler Library\n",
        "from sklearn.preprocessing import StandardScaler\n",
        "\n",
        "# Model Libraries\n",
        "from sklearn.linear_model import LogisticRegression\n",
        "from sklearn.neighbors import KNeighborsClassifier\n",
        "from sklearn.tree import DecisionTreeClassifier\n",
        "from sklearn.ensemble import RandomForestClassifier, GradientBoostingClassifier, BaggingClassifier\n",
        "from xgboost.sklearn import XGBClassifier\n",
        "\n",
        "# Metric Libraries\n",
        "from sklearn.metrics import f1_score, recall_score, precision_score, classification_report, roc_auc_score"
      ]
    },
    {
      "cell_type": "markdown",
      "metadata": {
        "id": "tAtF5ja9n6rB"
      },
      "source": [
        "## Encoding the Categorical Variables"
      ]
    },
    {
      "cell_type": "markdown",
      "metadata": {
        "id": "cXcp7TDfn6rC"
      },
      "source": [
        "In order to use the categorical variables for modelling, we must first encode the categorical variables so that, it transformed into numerical variables, we will use one hot encoding for the Agency type, Contact and Distribution Channel and Binary Encoder for the Agency, Product Name, Destination. We will then use ColumnTransformer so that it can be applied to the model pipeline."
      ]
    },
    {
      "cell_type": "code",
      "execution_count": 249,
      "metadata": {
        "id": "3dQnjE50n6rC",
        "outputId": "43949630-fb1f-41c5-c695-d24b248db6bb",
        "colab": {
          "base_uri": "https://localhost:8080/",
          "height": 394
        }
      },
      "outputs": [
        {
          "output_type": "execute_result",
          "data": {
            "text/plain": [
              "     Feature Data Type  Number of Unique  \\\n",
              "0        age     int64                57   \n",
              "1        job    object                12   \n",
              "2    balance     int64              2899   \n",
              "3    housing    object                 2   \n",
              "4       loan    object                 2   \n",
              "5    contact    object                 3   \n",
              "6      month    object                12   \n",
              "7   campaign     int64                10   \n",
              "8      pdays     int64               171   \n",
              "9   poutcome    object                 4   \n",
              "10   deposit    object                 2   \n",
              "\n",
              "                                               Unique  \n",
              "0   [55, 38, 36, 41, 37, 35, 57, 23, 33, 31, 53, 3...  \n",
              "1   [admin., services, housemaid, technician, mana...  \n",
              "2   [1662, -87, 205, -76, 4803, 911, 805, 0, 1234,...  \n",
              "3                                           [no, yes]  \n",
              "4                                           [no, yes]  \n",
              "5                      [cellular, telephone, unknown]  \n",
              "6   [jun, may, nov, apr, jan, sep, feb, mar, aug, ...  \n",
              "7                     [2, 1, 4, 5, 3, 6, 7, 8, 9, 10]  \n",
              "8   [-1, 21, 91, 186, 96, 89, 114, 93, 175, 57, 15...  \n",
              "9                  [unknown, failure, success, other]  \n",
              "10                                          [yes, no]  "
            ],
            "text/html": [
              "\n",
              "  <div id=\"df-786a2860-4516-43ec-9d98-c968d2bd98e5\">\n",
              "    <div class=\"colab-df-container\">\n",
              "      <div>\n",
              "<style scoped>\n",
              "    .dataframe tbody tr th:only-of-type {\n",
              "        vertical-align: middle;\n",
              "    }\n",
              "\n",
              "    .dataframe tbody tr th {\n",
              "        vertical-align: top;\n",
              "    }\n",
              "\n",
              "    .dataframe thead th {\n",
              "        text-align: right;\n",
              "    }\n",
              "</style>\n",
              "<table border=\"1\" class=\"dataframe\">\n",
              "  <thead>\n",
              "    <tr style=\"text-align: right;\">\n",
              "      <th></th>\n",
              "      <th>Feature</th>\n",
              "      <th>Data Type</th>\n",
              "      <th>Number of Unique</th>\n",
              "      <th>Unique</th>\n",
              "    </tr>\n",
              "  </thead>\n",
              "  <tbody>\n",
              "    <tr>\n",
              "      <th>0</th>\n",
              "      <td>age</td>\n",
              "      <td>int64</td>\n",
              "      <td>57</td>\n",
              "      <td>[55, 38, 36, 41, 37, 35, 57, 23, 33, 31, 53, 3...</td>\n",
              "    </tr>\n",
              "    <tr>\n",
              "      <th>1</th>\n",
              "      <td>job</td>\n",
              "      <td>object</td>\n",
              "      <td>12</td>\n",
              "      <td>[admin., services, housemaid, technician, mana...</td>\n",
              "    </tr>\n",
              "    <tr>\n",
              "      <th>2</th>\n",
              "      <td>balance</td>\n",
              "      <td>int64</td>\n",
              "      <td>2899</td>\n",
              "      <td>[1662, -87, 205, -76, 4803, 911, 805, 0, 1234,...</td>\n",
              "    </tr>\n",
              "    <tr>\n",
              "      <th>3</th>\n",
              "      <td>housing</td>\n",
              "      <td>object</td>\n",
              "      <td>2</td>\n",
              "      <td>[no, yes]</td>\n",
              "    </tr>\n",
              "    <tr>\n",
              "      <th>4</th>\n",
              "      <td>loan</td>\n",
              "      <td>object</td>\n",
              "      <td>2</td>\n",
              "      <td>[no, yes]</td>\n",
              "    </tr>\n",
              "    <tr>\n",
              "      <th>5</th>\n",
              "      <td>contact</td>\n",
              "      <td>object</td>\n",
              "      <td>3</td>\n",
              "      <td>[cellular, telephone, unknown]</td>\n",
              "    </tr>\n",
              "    <tr>\n",
              "      <th>6</th>\n",
              "      <td>month</td>\n",
              "      <td>object</td>\n",
              "      <td>12</td>\n",
              "      <td>[jun, may, nov, apr, jan, sep, feb, mar, aug, ...</td>\n",
              "    </tr>\n",
              "    <tr>\n",
              "      <th>7</th>\n",
              "      <td>campaign</td>\n",
              "      <td>int64</td>\n",
              "      <td>10</td>\n",
              "      <td>[2, 1, 4, 5, 3, 6, 7, 8, 9, 10]</td>\n",
              "    </tr>\n",
              "    <tr>\n",
              "      <th>8</th>\n",
              "      <td>pdays</td>\n",
              "      <td>int64</td>\n",
              "      <td>171</td>\n",
              "      <td>[-1, 21, 91, 186, 96, 89, 114, 93, 175, 57, 15...</td>\n",
              "    </tr>\n",
              "    <tr>\n",
              "      <th>9</th>\n",
              "      <td>poutcome</td>\n",
              "      <td>object</td>\n",
              "      <td>4</td>\n",
              "      <td>[unknown, failure, success, other]</td>\n",
              "    </tr>\n",
              "    <tr>\n",
              "      <th>10</th>\n",
              "      <td>deposit</td>\n",
              "      <td>object</td>\n",
              "      <td>2</td>\n",
              "      <td>[yes, no]</td>\n",
              "    </tr>\n",
              "  </tbody>\n",
              "</table>\n",
              "</div>\n",
              "      <button class=\"colab-df-convert\" onclick=\"convertToInteractive('df-786a2860-4516-43ec-9d98-c968d2bd98e5')\"\n",
              "              title=\"Convert this dataframe to an interactive table.\"\n",
              "              style=\"display:none;\">\n",
              "        \n",
              "  <svg xmlns=\"http://www.w3.org/2000/svg\" height=\"24px\"viewBox=\"0 0 24 24\"\n",
              "       width=\"24px\">\n",
              "    <path d=\"M0 0h24v24H0V0z\" fill=\"none\"/>\n",
              "    <path d=\"M18.56 5.44l.94 2.06.94-2.06 2.06-.94-2.06-.94-.94-2.06-.94 2.06-2.06.94zm-11 1L8.5 8.5l.94-2.06 2.06-.94-2.06-.94L8.5 2.5l-.94 2.06-2.06.94zm10 10l.94 2.06.94-2.06 2.06-.94-2.06-.94-.94-2.06-.94 2.06-2.06.94z\"/><path d=\"M17.41 7.96l-1.37-1.37c-.4-.4-.92-.59-1.43-.59-.52 0-1.04.2-1.43.59L10.3 9.45l-7.72 7.72c-.78.78-.78 2.05 0 2.83L4 21.41c.39.39.9.59 1.41.59.51 0 1.02-.2 1.41-.59l7.78-7.78 2.81-2.81c.8-.78.8-2.07 0-2.86zM5.41 20L4 18.59l7.72-7.72 1.47 1.35L5.41 20z\"/>\n",
              "  </svg>\n",
              "      </button>\n",
              "      \n",
              "  <style>\n",
              "    .colab-df-container {\n",
              "      display:flex;\n",
              "      flex-wrap:wrap;\n",
              "      gap: 12px;\n",
              "    }\n",
              "\n",
              "    .colab-df-convert {\n",
              "      background-color: #E8F0FE;\n",
              "      border: none;\n",
              "      border-radius: 50%;\n",
              "      cursor: pointer;\n",
              "      display: none;\n",
              "      fill: #1967D2;\n",
              "      height: 32px;\n",
              "      padding: 0 0 0 0;\n",
              "      width: 32px;\n",
              "    }\n",
              "\n",
              "    .colab-df-convert:hover {\n",
              "      background-color: #E2EBFA;\n",
              "      box-shadow: 0px 1px 2px rgba(60, 64, 67, 0.3), 0px 1px 3px 1px rgba(60, 64, 67, 0.15);\n",
              "      fill: #174EA6;\n",
              "    }\n",
              "\n",
              "    [theme=dark] .colab-df-convert {\n",
              "      background-color: #3B4455;\n",
              "      fill: #D2E3FC;\n",
              "    }\n",
              "\n",
              "    [theme=dark] .colab-df-convert:hover {\n",
              "      background-color: #434B5C;\n",
              "      box-shadow: 0px 1px 3px 1px rgba(0, 0, 0, 0.15);\n",
              "      filter: drop-shadow(0px 1px 2px rgba(0, 0, 0, 0.3));\n",
              "      fill: #FFFFFF;\n",
              "    }\n",
              "  </style>\n",
              "\n",
              "      <script>\n",
              "        const buttonEl =\n",
              "          document.querySelector('#df-786a2860-4516-43ec-9d98-c968d2bd98e5 button.colab-df-convert');\n",
              "        buttonEl.style.display =\n",
              "          google.colab.kernel.accessAllowed ? 'block' : 'none';\n",
              "\n",
              "        async function convertToInteractive(key) {\n",
              "          const element = document.querySelector('#df-786a2860-4516-43ec-9d98-c968d2bd98e5');\n",
              "          const dataTable =\n",
              "            await google.colab.kernel.invokeFunction('convertToInteractive',\n",
              "                                                     [key], {});\n",
              "          if (!dataTable) return;\n",
              "\n",
              "          const docLinkHtml = 'Like what you see? Visit the ' +\n",
              "            '<a target=\"_blank\" href=https://colab.research.google.com/notebooks/data_table.ipynb>data table notebook</a>'\n",
              "            + ' to learn more about interactive tables.';\n",
              "          element.innerHTML = '';\n",
              "          dataTable['output_type'] = 'display_data';\n",
              "          await google.colab.output.renderOutput(dataTable, element);\n",
              "          const docLink = document.createElement('div');\n",
              "          docLink.innerHTML = docLinkHtml;\n",
              "          element.appendChild(docLink);\n",
              "        }\n",
              "      </script>\n",
              "    </div>\n",
              "  </div>\n",
              "  "
            ]
          },
          "metadata": {},
          "execution_count": 249
        }
      ],
      "source": [
        "listItem = []\n",
        "\n",
        "for col in df.columns:\n",
        "    listItem.append([col, df_model[col].dtype, df_model[col].nunique(), df_model[col].unique()])\n",
        "\n",
        "df_desc = pd.DataFrame(columns = ['Feature', 'Data Type', 'Number of Unique', 'Unique'], data = listItem)\n",
        "df_desc"
      ]
    },
    {
      "cell_type": "code",
      "execution_count": 250,
      "metadata": {
        "id": "Em91IqRgn6rD"
      },
      "outputs": [],
      "source": [
        "transformer1 = ColumnTransformer([\n",
        "    ('one hot', OneHotEncoder(), ['housing', 'loan', 'poutcome', 'contact']),\n",
        "    ('binary', ce.BinaryEncoder(), ['job', 'month'])\n",
        "], remainder = 'passthrough')"
      ]
    },
    {
      "cell_type": "markdown",
      "metadata": {
        "id": "KwQs2P99n6rD"
      },
      "source": [
        "## Data Splitting"
      ]
    },
    {
      "cell_type": "markdown",
      "source": [
        "Next, we will split the data to the feature and target, with x being the features and y being the target, we will also split the data into train and test data with 70:30 distribution. \n",
        "\n",
        "In order to have the same proportions of sample in each of the train and test data we will stratify the data based on the y class"
      ],
      "metadata": {
        "id": "kIVujlXh1Hyc"
      }
    },
    {
      "cell_type": "code",
      "execution_count": 251,
      "metadata": {
        "id": "nMIzxQOCn6rD"
      },
      "outputs": [],
      "source": [
        "x = df_model.drop(['deposit'], axis = 1)\n",
        "y = df_model['deposit']"
      ]
    },
    {
      "cell_type": "code",
      "execution_count": 252,
      "metadata": {
        "id": "zr0HyFI3n6rD"
      },
      "outputs": [],
      "source": [
        "y2 = np.where(df_model['deposit'] == 'yes', 1, 0)"
      ]
    },
    {
      "cell_type": "code",
      "execution_count": 253,
      "metadata": {
        "id": "oKbN4u-sn6rD"
      },
      "outputs": [],
      "source": [
        "x_train, x_test, y_train, y_test = train_test_split(\n",
        "    x,\n",
        "    y2,\n",
        "    stratify = y2,\n",
        "    test_size = 0.3,\n",
        "    random_state = 1\n",
        ")"
      ]
    },
    {
      "cell_type": "markdown",
      "metadata": {
        "id": "_61AYflfn6rE"
      },
      "source": [
        "## Preliminary Cross Validation"
      ]
    },
    {
      "cell_type": "markdown",
      "source": [
        "In this cross validation, to prevent information leakage, the encoding and scaling and modelling is pipelined. \n",
        "\n",
        "This data needed to be scaled, since as can be seen from the boxplot above, the value of balance is much higher, thus, if it is not scaled, the resulting model will be biased towards the balance."
      ],
      "metadata": {
        "id": "byFw0xmDRnNG"
      }
    },
    {
      "cell_type": "code",
      "execution_count": 257,
      "metadata": {
        "id": "fNOu5W7Qn6rE",
        "outputId": "e7dd34c6-cf9e-4334-882f-5d14200027ee",
        "colab": {
          "base_uri": "https://localhost:8080/"
        }
      },
      "outputs": [
        {
          "output_type": "stream",
          "name": "stdout",
          "text": [
            "LogisticRegression() [0.747951   0.72516972 0.72972768 0.76035268 0.78034375] 0.7487089650387316 0.020254854635693764\n",
            "KNeighborsClassifier() [0.7155657  0.71140276 0.70022991 0.73069643 0.74602232] 0.7207834246503666 0.01595580131251749\n",
            "DecisionTreeClassifier() [0.61900891 0.61607625 0.60009598 0.62908036 0.59999107] 0.6128505139793587 0.011311784612851865\n",
            "RandomForestClassifier(random_state=1) [0.74454343 0.73053903 0.73634152 0.77638393 0.75950223] 0.749462027495175 0.01661333628568486\n",
            "BaggingClassifier(random_state=1) [0.72830067 0.70951926 0.68481473 0.73558259 0.73354687] 0.7183528251639295 0.019128612272260995\n",
            "XGBClassifier(random_state=1) [0.76288196 0.75294464 0.76417188 0.78322098 0.7885692 ] 0.7703577311100884 0.013375263264696312\n"
          ]
        }
      ],
      "source": [
        "lr = LogisticRegression()\n",
        "knn = KNeighborsClassifier()\n",
        "tree = DecisionTreeClassifier()\n",
        "rf = RandomForestClassifier(random_state = 1)\n",
        "bg = BaggingClassifier(random_state = 1)\n",
        "xgb = XGBClassifier(random_state = 1)\n",
        "\n",
        "scaler = StandardScaler()\n",
        "\n",
        "models = [lr, knn, tree, rf, bg, xgb]\n",
        "\n",
        "j = 0\n",
        "\n",
        "model_cv_roc_mean = []\n",
        "model_cv_roc_std = []\n",
        "model_cv_roc_val = []\n",
        "\n",
        "for i in models:\n",
        "    skfold = StratifiedKFold(n_splits = 5, shuffle = True, random_state = 1)\n",
        "\n",
        "    pipeline = Pipeline([\n",
        "        ('encoding', transformer1),\n",
        "        ('scaler', scaler),\n",
        "        ('model', i)\n",
        "    ])\n",
        "\n",
        "    model_cv_roc = cross_val_score(\n",
        "        pipeline,\n",
        "        x_train,\n",
        "        y_train,\n",
        "        cv = skfold,\n",
        "        scoring = 'roc_auc'\n",
        "    )\n",
        "\n",
        "    model_cv_roc_mean.append(model_cv_roc.mean())\n",
        "    model_cv_roc_std.append(model_cv_roc.std())\n",
        "\n",
        "    print(i, model_cv_roc, model_cv_roc.mean(), model_cv_roc.std())\n",
        "  \n",
        "  "
      ]
    },
    {
      "cell_type": "markdown",
      "source": [
        "From the cross validation score above based on the ROC-AUC Score, the highest mean score is the XG Boosting Classifier with 0.77. While the worst mean score model is the decision tree classifier with 0.611. Then, regarding the standard deviation score of the ROC-AUC score, the XGBClassifier had the lowest standard deviation with 0.013, thus the most stable of the models."
      ],
      "metadata": {
        "id": "E5_TgcyYRF_R"
      }
    },
    {
      "cell_type": "markdown",
      "source": [
        "Next we will try to test the model by using the three models with the 3 highest mean scores to predict the test data , which is XGBClassifier, Logistic Regression and the Random Forest Classifier."
      ],
      "metadata": {
        "id": "xgmMqMDdgdkf"
      }
    },
    {
      "cell_type": "markdown",
      "metadata": {
        "id": "ut3d-knnn6rE"
      },
      "source": [
        "## Test Data Prediction"
      ]
    },
    {
      "cell_type": "code",
      "execution_count": 258,
      "metadata": {
        "id": "61BTF6kDn6rE",
        "outputId": "b06b67c3-c755-4d57-d0b0-d58744fa3218",
        "colab": {
          "base_uri": "https://localhost:8080/"
        }
      },
      "outputs": [
        {
          "output_type": "stream",
          "name": "stdout",
          "text": [
            "\n",
            "\n",
            "XG Boosting\n",
            "              precision    recall  f1-score   support\n",
            "\n",
            "           0       0.69      0.78      0.73      1071\n",
            "           1       0.71      0.60      0.65       961\n",
            "\n",
            "    accuracy                           0.70      2032\n",
            "   macro avg       0.70      0.69      0.69      2032\n",
            "weighted avg       0.70      0.70      0.69      2032\n",
            "\n",
            "0.6911247329316743\n",
            "\n",
            "\n",
            "Random Forest\n",
            "              precision    recall  f1-score   support\n",
            "\n",
            "           0       0.69      0.76      0.72      1071\n",
            "           1       0.70      0.62      0.66       961\n",
            "\n",
            "    accuracy                           0.69      2032\n",
            "   macro avg       0.70      0.69      0.69      2032\n",
            "weighted avg       0.70      0.69      0.69      2032\n",
            "\n",
            "0.6912597852182842\n",
            "\n",
            "\n",
            "Logistic Regression\n",
            "              precision    recall  f1-score   support\n",
            "\n",
            "           0       0.68      0.79      0.73      1071\n",
            "           1       0.72      0.59      0.65       961\n",
            "\n",
            "    accuracy                           0.70      2032\n",
            "   macro avg       0.70      0.69      0.69      2032\n",
            "weighted avg       0.70      0.70      0.69      2032\n",
            "\n",
            "0.6910572067883692\n"
          ]
        }
      ],
      "source": [
        "models = {\n",
        "    'XG Boosting' : XGBClassifier(random_state = 1),\n",
        "    'Random Forest' : RandomForestClassifier(random_state = 1),\n",
        "    'Logistic Regression' : LogisticRegression()\n",
        "}\n",
        "\n",
        "for i in models:\n",
        "\n",
        "    pipeline_test = Pipeline([\n",
        "        ('preprocess', transformer1),\n",
        "        ('scaler', scaler),\n",
        "        ('model', models[i])\n",
        "    ])\n",
        "\n",
        "    pipeline_test.fit(x_train, y_train)\n",
        "    y_pred_before = pipeline_test.predict(x_test)\n",
        "    print('\\n')\n",
        "    print(i)\n",
        "    print(classification_report(y_test, y_pred_before))\n",
        "    print(roc_auc_score(y_test, y_pred_before))"
      ]
    },
    {
      "cell_type": "markdown",
      "source": [
        "As can be seen from the above evaluation metrics result above, the highest ROC-AUC value is the Gradient Boosting model, Regarding the overall performance score, all of the model had a similar score in that regard, so the decision is still to use the XGBClassifier Model. Also, with random forest eventhough it had a slightly higher score in ROC-AUC, it had a slightly worse accuracy result, thus, it is better to use the XGBClassifier.\n",
        "\n",
        "Next, we will try to do some Hyperparamter Tuning using Random Search"
      ],
      "metadata": {
        "id": "SYK1lUkAhaKi"
      }
    },
    {
      "cell_type": "markdown",
      "metadata": {
        "id": "gf2fxGNKn6rF"
      },
      "source": [
        "## Hyperparameter Tuning using Random Search"
      ]
    },
    {
      "cell_type": "code",
      "execution_count": 187,
      "metadata": {
        "id": "1yu9dK7Kn6rF"
      },
      "outputs": [],
      "source": [
        "max_depth = list(np.arange(1, 11))\n",
        "\n",
        "learning_rate = list(np.arange(1, 100)/100)\n",
        "\n",
        "n_estimators = list(np.arange(100, 201))\n",
        "\n",
        "subsample = list(np.arange(2, 10)/10)\n",
        "\n",
        "gamma = list(np.arange(1, 11))\n",
        "\n",
        "colsample_bytree = list(np.arange(1, 10)/10)\n",
        "\n",
        "reg_alpha = list(np.logspace(-3, 1, 10)) \n",
        "\n",
        "hyperparam_xgb = {\n",
        "    'model__max_depth': max_depth, \n",
        "    'model__learning_rate': learning_rate,\n",
        "    'model__n_estimators': n_estimators,\n",
        "    'model__subsample': subsample,\n",
        "    'model__gamma': gamma,\n",
        "    'model__colsample_bytree': colsample_bytree,\n",
        "    'model__alpha': reg_alpha\n",
        "}"
      ]
    },
    {
      "cell_type": "code",
      "execution_count": 188,
      "metadata": {
        "id": "2pA4v52sn6rF"
      },
      "outputs": [],
      "source": [
        "from sklearn.model_selection import GridSearchCV\n",
        "\n",
        "\n",
        "xgb = XGBClassifier(random_state = 1, verbose = 0)\n",
        "\n",
        "xgb_pipeline = Pipeline([\n",
        "        ('preprocess', transformer1),\n",
        "        ('scaler', scaler),\n",
        "        ('model', xgb)\n",
        "    ])\n",
        "\n",
        "skfold = StratifiedKFold(n_splits = 5, shuffle = True, random_state = 1)\n",
        "\n",
        "random_xgb = RandomizedSearchCV(\n",
        "    xgb_pipeline,\n",
        "    param_distributions = hyperparam_xgb,\n",
        "    cv = skfold,\n",
        "    scoring = ['roc_auc', 'accuracy'],\n",
        "    n_jobs = 2,\n",
        "    refit = 'roc_auc',\n",
        "    n_iter = 100,\n",
        "    random_state = 42\n",
        ")"
      ]
    },
    {
      "cell_type": "code",
      "execution_count": 189,
      "metadata": {
        "id": "-LolikWkn6rG",
        "colab": {
          "base_uri": "https://localhost:8080/"
        },
        "outputId": "560d7ba0-51dc-47f8-fba3-2f4864805253"
      },
      "outputs": [
        {
          "output_type": "execute_result",
          "data": {
            "text/plain": [
              "RandomizedSearchCV(cv=StratifiedKFold(n_splits=5, random_state=1, shuffle=True),\n",
              "                   estimator=Pipeline(steps=[('preprocess',\n",
              "                                              ColumnTransformer(remainder='passthrough',\n",
              "                                                                transformers=[('one '\n",
              "                                                                               'hot',\n",
              "                                                                               OneHotEncoder(),\n",
              "                                                                               ['housing',\n",
              "                                                                                'loan',\n",
              "                                                                                'poutcome',\n",
              "                                                                                'contact']),\n",
              "                                                                              ('binary',\n",
              "                                                                               BinaryEncoder(),\n",
              "                                                                               ['job',\n",
              "                                                                                'month'])])),\n",
              "                                             ('scaler', StandardScaler()),\n",
              "                                             ('model',\n",
              "                                              XGBClassifier(random_sta...\n",
              "                                                                 0.23, 0.24,\n",
              "                                                                 0.25, 0.26,\n",
              "                                                                 0.27, 0.28,\n",
              "                                                                 0.29, 0.3, ...],\n",
              "                                        'model__max_depth': [1, 2, 3, 4, 5, 6,\n",
              "                                                             7, 8, 9, 10],\n",
              "                                        'model__n_estimators': [100, 101, 102,\n",
              "                                                                103, 104, 105,\n",
              "                                                                106, 107, 108,\n",
              "                                                                109, 110, 111,\n",
              "                                                                112, 113, 114,\n",
              "                                                                115, 116, 117,\n",
              "                                                                118, 119, 120,\n",
              "                                                                121, 122, 123,\n",
              "                                                                124, 125, 126,\n",
              "                                                                127, 128, 129, ...],\n",
              "                                        'model__subsample': [0.2, 0.3, 0.4, 0.5,\n",
              "                                                             0.6, 0.7, 0.8,\n",
              "                                                             0.9]},\n",
              "                   random_state=42, refit='roc_auc',\n",
              "                   scoring=['roc_auc', 'accuracy'])"
            ]
          },
          "metadata": {},
          "execution_count": 189
        }
      ],
      "source": [
        "random_xgb.fit(x_train, y_train)"
      ]
    },
    {
      "cell_type": "code",
      "execution_count": 190,
      "metadata": {
        "id": "36xjwHoWn6rG",
        "outputId": "40c0069b-2517-417e-fc3a-f9ba2f6f4244",
        "colab": {
          "base_uri": "https://localhost:8080/"
        }
      },
      "outputs": [
        {
          "output_type": "execute_result",
          "data": {
            "text/plain": [
              "0.7770092693599895"
            ]
          },
          "metadata": {},
          "execution_count": 190
        }
      ],
      "source": [
        "random_xgb.best_score_"
      ]
    },
    {
      "cell_type": "code",
      "execution_count": 191,
      "metadata": {
        "id": "ZaAICO_ln6rG",
        "outputId": "23a9c10f-a0b3-400f-f599-bd78caadd018",
        "colab": {
          "base_uri": "https://localhost:8080/"
        }
      },
      "outputs": [
        {
          "output_type": "execute_result",
          "data": {
            "text/plain": [
              "{'model__subsample': 0.9,\n",
              " 'model__n_estimators': 161,\n",
              " 'model__max_depth': 5,\n",
              " 'model__learning_rate': 0.2,\n",
              " 'model__gamma': 7,\n",
              " 'model__colsample_bytree': 0.5,\n",
              " 'model__alpha': 0.1668100537200059}"
            ]
          },
          "metadata": {},
          "execution_count": 191
        }
      ],
      "source": [
        "random_xgb.best_params_"
      ]
    },
    {
      "cell_type": "markdown",
      "metadata": {
        "id": "KR9LzrR2n6rH"
      },
      "source": [
        "## Tuned Model Test Data Prediction"
      ]
    },
    {
      "cell_type": "markdown",
      "source": [
        "Next, we will try to fit the training data with the hyperparameter tuned model, and then test it using the test data for prediction"
      ],
      "metadata": {
        "id": "ltDDYyieOQvR"
      }
    },
    {
      "cell_type": "code",
      "execution_count": 192,
      "metadata": {
        "id": "e2-6HQpen6rH"
      },
      "outputs": [],
      "source": [
        "tuned_gb = random_xgb.best_estimator_\n",
        "\n",
        "tuned_gb.fit(x_train, y_train)\n",
        "\n",
        "y_pred_tuned = tuned_gb.predict(x_test)"
      ]
    },
    {
      "cell_type": "markdown",
      "source": [
        "## Tuning Test Comparison"
      ],
      "metadata": {
        "id": "iy9ktXAMw4li"
      }
    },
    {
      "cell_type": "markdown",
      "source": [
        "Then, we will compare the performance of the XGB before and After Tuning"
      ],
      "metadata": {
        "id": "zxTL6TLZOcy-"
      }
    },
    {
      "cell_type": "code",
      "source": [
        "xgb = XGBClassifier(random_state = 1, verbose = 0)\n",
        "\n",
        "xgb_pipeline = Pipeline([\n",
        "        ('preprocess', transformer1),\n",
        "        ('scaler', scaler),\n",
        "        ('model', gb)\n",
        "    ])\n",
        "\n",
        "xgb_pipeline.fit(x_train, y_train)\n",
        "\n",
        "y_pred_before = xgb_pipeline.predict(x_test)"
      ],
      "metadata": {
        "id": "5GAfXvwZx7kn"
      },
      "execution_count": 193,
      "outputs": []
    },
    {
      "cell_type": "code",
      "source": [
        "print('Before Tuning\\n')\n",
        "print(classification_report(y_test, y_pred_before))\n",
        "print('ROC-AUC Score: ', roc_auc_score(y_test, y_pred_before), '\\n')\n",
        "print('After Tuning\\n')\n",
        "print(classification_report(y_test, y_pred_tuned))\n",
        "print('ROC-AUC Score: ', roc_auc_score(y_test, y_pred_tuned))"
      ],
      "metadata": {
        "colab": {
          "base_uri": "https://localhost:8080/"
        },
        "id": "xG0TgTzCw8vE",
        "outputId": "eff37dd4-7697-41c8-9365-1c868cfb70b2"
      },
      "execution_count": 194,
      "outputs": [
        {
          "output_type": "stream",
          "name": "stdout",
          "text": [
            "Before Tuning\n",
            "\n",
            "              precision    recall  f1-score   support\n",
            "\n",
            "           0       0.69      0.78      0.73      1071\n",
            "           1       0.71      0.60      0.65       961\n",
            "\n",
            "    accuracy                           0.70      2032\n",
            "   macro avg       0.70      0.69      0.69      2032\n",
            "weighted avg       0.70      0.70      0.69      2032\n",
            "\n",
            "ROC-AUC Score:  0.6920584397477341 \n",
            "\n",
            "After Tuning\n",
            "\n",
            "              precision    recall  f1-score   support\n",
            "\n",
            "           0       0.70      0.80      0.75      1071\n",
            "           1       0.74      0.62      0.67       961\n",
            "\n",
            "    accuracy                           0.71      2032\n",
            "   macro avg       0.72      0.71      0.71      2032\n",
            "weighted avg       0.72      0.71      0.71      2032\n",
            "\n",
            "ROC-AUC Score:  0.7090395644903816\n"
          ]
        }
      ]
    },
    {
      "cell_type": "markdown",
      "source": [
        "From what we can above, the score of both the classification report and the ROC-AUC score is higher in the after tuning model. Thus we will use the after tuning model"
      ],
      "metadata": {
        "id": "f3LPF103dGnb"
      }
    },
    {
      "cell_type": "markdown",
      "source": [
        "Next, we will plot the various evaluation metrics"
      ],
      "metadata": {
        "id": "kbd140eOdZ4W"
      }
    },
    {
      "cell_type": "code",
      "execution_count": 195,
      "metadata": {
        "id": "6pbRDnikn6rH",
        "outputId": "6808e10d-685b-463d-df30-ff6facb5ef23",
        "colab": {
          "base_uri": "https://localhost:8080/",
          "height": 295
        }
      },
      "outputs": [
        {
          "output_type": "display_data",
          "data": {
            "text/plain": [
              "<Figure size 432x288 with 1 Axes>"
            ],
            "image/png": "[encoded data removed]"
          },
          "metadata": {
            "needs_background": "light"
          }
        }
      ],
      "source": [
        "from sklearn.metrics import RocCurveDisplay, ConfusionMatrixDisplay, PrecisionRecallDisplay\n",
        "\n",
        "plt.Figure(figsize = (10, 10))\n",
        "RocCurveDisplay.from_estimator(tuned_gb, x_test, y_test)\n",
        "plt.title('ROC-AUC Curve of Model After Being Tuned')\n",
        "plt.show()"
      ]
    },
    {
      "cell_type": "code",
      "source": [
        "plt.Figure(figsize = (10, 10))\n",
        "RocCurveDisplay.from_estimator(xgb_pipeline, x_test, y_test)\n",
        "plt.title('ROC-AUC Curve of Model Before Being Tuned')\n",
        "plt.show()"
      ],
      "metadata": {
        "colab": {
          "base_uri": "https://localhost:8080/",
          "height": 295
        },
        "id": "6_4rn1kBTzpy",
        "outputId": "68fd5f70-fba7-48c6-b141-f8587ca0dee0"
      },
      "execution_count": 196,
      "outputs": [
        {
          "output_type": "display_data",
          "data": {
            "text/plain": [
              "<Figure size 432x288 with 1 Axes>"
            ],
            "image/png": "[encoded data removed]"
          },
          "metadata": {
            "needs_background": "light"
          }
        }
      ]
    },
    {
      "cell_type": "markdown",
      "source": [
        "As can be seen from the ROC-AUC Curve above, while both of them is better than the no-skill model, the difference in curve of both after and before tuning can not be seen at all thus, we will try using the confusion matrix to better see the performace of the model"
      ],
      "metadata": {
        "id": "9ZPf7yAedzvs"
      }
    },
    {
      "cell_type": "code",
      "execution_count": 261,
      "metadata": {
        "id": "uHjLwvhSn6rH",
        "outputId": "e17b530c-1b9e-4378-85bb-81c696731f8c",
        "colab": {
          "base_uri": "https://localhost:8080/",
          "height": 295
        }
      },
      "outputs": [
        {
          "output_type": "display_data",
          "data": {
            "text/plain": [
              "<Figure size 432x288 with 2 Axes>"
            ],
            "image/png": "[encoded data removed]"
          },
          "metadata": {
            "needs_background": "light"
          }
        }
      ],
      "source": [
        "plt.Figure(figsize = (10, 10))\n",
        "ConfusionMatrixDisplay.from_estimator(tuned_gb, x_test, y_test)\n",
        "plt.title('Confusion Matrix of Model After Being Tuned')\n",
        "plt.show()"
      ]
    },
    {
      "cell_type": "code",
      "source": [
        "plt.figure(figsize = (10, 10))\n",
        "ConfusionMatrixDisplay.from_estimator(xgb_pipeline, x_test, y_test)\n",
        "plt.title('Confusion Matrix of Model Before Being Tuned')\n",
        "plt.show()"
      ],
      "metadata": {
        "colab": {
          "base_uri": "https://localhost:8080/",
          "height": 312
        },
        "id": "GuUr9_0PT_uN",
        "outputId": "392a50ff-142b-40dd-e5e3-21d0aa5a7416"
      },
      "execution_count": 198,
      "outputs": [
        {
          "output_type": "display_data",
          "data": {
            "text/plain": [
              "<Figure size 720x720 with 0 Axes>"
            ]
          },
          "metadata": {}
        },
        {
          "output_type": "display_data",
          "data": {
            "text/plain": [
              "<Figure size 432x288 with 2 Axes>"
            ],
            "image/png": "[encoded data removed]"
          },
          "metadata": {
            "needs_background": "light"
          }
        }
      ]
    },
    {
      "cell_type": "markdown",
      "source": [
        "As can be seen from the confusion matrix above, the rate that the model predict correctly is higher in the tuned model, with a decrease of 23 in the false positive label, and decrease of 12 in the false negative label. \n",
        "\n",
        "The model was able to predict 1451 data correctly, with 859 true negative and 592 true positive after being tuned"
      ],
      "metadata": {
        "id": "XbqeZQReOuZu"
      }
    },
    {
      "cell_type": "markdown",
      "source": [
        "So, as can be seen from both the confusion matrix and the ROC-AUC score and graph and accuracy, the model perform slightly better after the hyperparamter is tuned."
      ],
      "metadata": {
        "id": "1auJZKXUPS0h"
      }
    },
    {
      "cell_type": "markdown",
      "metadata": {
        "id": "s9JWRHT4n6rI"
      },
      "source": [
        "### Feature Importance"
      ]
    },
    {
      "cell_type": "code",
      "execution_count": 199,
      "metadata": {
        "id": "OaNjCTE5n6rI",
        "outputId": "d5cdfa1a-32ff-48f0-b341-85b5b7498a5f",
        "colab": {
          "base_uri": "https://localhost:8080/",
          "height": 336
        }
      },
      "outputs": [
        {
          "output_type": "stream",
          "name": "stderr",
          "text": [
            "/usr/local/lib/python3.7/dist-packages/sklearn/utils/deprecation.py:87: FutureWarning: Function get_feature_names is deprecated; get_feature_names is deprecated in 1.0 and will be removed in 1.2. Please use get_feature_names_out instead.\n",
            "  warnings.warn(msg, category=FutureWarning)\n"
          ]
        },
        {
          "output_type": "display_data",
          "data": {
            "text/plain": [
              "<Figure size 432x288 with 1 Axes>"
            ],
            "image/png": "[encoded data removed]"
          },
          "metadata": {
            "needs_background": "light"
          }
        }
      ],
      "source": [
        "feature_imp = pd.Series(tuned_gb['model'].feature_importances_, transformer1.get_feature_names()).sort_values(ascending = False).head()\n",
        "feature_imp.plot(kind='barh', title='Feature Importances');"
      ]
    },
    {
      "cell_type": "markdown",
      "source": [
        "From the feature importance bar plot above, the five most important feature in this model is the pdays or how long since the customer was last contacted, the outcome of the previous marketing campaign, how the customer is contacted, whether the customer had a housing or not, and at what month the customer was contacted"
      ],
      "metadata": {
        "id": "xp3URfg8SbOG"
      }
    },
    {
      "cell_type": "markdown",
      "metadata": {
        "id": "E-TK7TWBn6rI"
      },
      "source": [
        "# Conclusion"
      ]
    },
    {
      "cell_type": "markdown",
      "source": [
        "From the modelling we can see that the pdays or how long since the customer was last contacted, the outcome of the previous marketing campaign, how the customer is contacted, whether the customer had a housing or not, and at what month the customer was contacted are the most influental on whether the customer will deposit during the marketing campaign according to the model created.\n",
        "\n",
        "From the evaluation metrics, ROC-AUC score and the Classification Report which contains the accuracy, precision, recall and the f1-score, the performance of the model after the hyperparameter tuning increases. Although, the increases itself is not significant amount, it still had a better overall performance compared to before it was tuned.\n",
        "\n",
        "This performance however can worsen, due to this model having both less feature and observations from which the model could be trained on, especially on several aspects of the customer's data is missing and also there is few factor on the economic information of the customer. This performance will be worse especially, if the data given is filled with outliers, since this model is trained using data that has been mostly cleaned from outliers. \n",
        "\n",
        "There are many things on which the model can be improved upon such as, better hyperparameter tuning and having more feature and observations to train the model upon and also having several unknown value. I believe that this dataset is missing several features that can improve the prediction of the model."
      ],
      "metadata": {
        "id": "zWMNpYJATA5o"
      }
    },
    {
      "cell_type": "markdown",
      "metadata": {
        "id": "GCG6LxFmn6rI"
      },
      "source": [
        "# Recommendation"
      ]
    },
    {
      "cell_type": "markdown",
      "source": [
        "1. If possible, for the next marketing campaign data, add a lot more samples to the dataset so that, the model can be trained using more samples and thus, both the prediction and analysis can be better.\n",
        "\n",
        "2. Add more features regarding the customer data, such as the level of education and marital status, those two data can be important features to the prediction. \n",
        "\n",
        "  Also, if possible, add more data regarding the economic side of the customer such as, the income of the customer and possibly, the amount of time the customer had been using the bank.\n",
        "\n",
        "4. Regarding the data, if possible, reduce the amount of unknowns of the previous marketing campaign data, since previous marketing campaign data could be important in both predicting and analyzing the customers depositing or not.\n",
        "\n",
        "5. We can measure how satisfied the customer with the bank possibly by asking for the satisfaction of the customer during customer contact. Then, we can use the result as features.\n",
        "\n",
        "6. To check the real world result from the prediction, it is recommended to continue training and testing by using the data gained from the next marketing campaign, by comparing the test result with the real result, we can constantly train the model with newer data and continue on improving upon the model itself."
      ],
      "metadata": {
        "id": "4AmNVoFgZD2p"
      }
    },
    {
      "cell_type": "markdown",
      "source": [
        "# Saving the Model"
      ],
      "metadata": {
        "id": "Kjc-91Us-B-C"
      }
    },
    {
      "cell_type": "code",
      "source": [
        "import pickle\n",
        "\n",
        "tuned_gb.fit(x_train, y_train)\n",
        "\n",
        "pickle.dump(tuned_gb, open('Model_Marketing_XGB_Tuned.sav', 'wb'))"
      ],
      "metadata": {
        "id": "rJNk384T-Dsn"
      },
      "execution_count": 260,
      "outputs": []
    },
    {
      "cell_type": "code",
      "source": [
        "loaded_model = pickle.load(open('Model_Marketing_XGB_Tuned.sav', 'rb'))"
      ],
      "metadata": {
        "id": "3WAIrA5m-0-6"
      },
      "execution_count": 263,
      "outputs": []
    },
    {
      "cell_type": "code",
      "source": [
        "roc_auc_score(y_test, loaded_model.predict(x_test))"
      ],
      "metadata": {
        "colab": {
          "base_uri": "https://localhost:8080/"
        },
        "id": "YAItv45P-8bA",
        "outputId": "f804bb58-7876-4948-ea26-d583b2c1b3d3"
      },
      "execution_count": 264,
      "outputs": [
        {
          "output_type": "execute_result",
          "data": {
            "text/plain": [
              "0.7090395644903816"
            ]
          },
          "metadata": {},
          "execution_count": 264
        }
      ]
    }
  ],
  "metadata": {
    "kernelspec": {
      "display_name": "Python 3.9.12 ('base')",
      "language": "python",
      "name": "python3"
    },
    "language_info": {
      "codemirror_mode": {
        "name": "ipython",
        "version": 3
      },
      "file_extension": ".py",
      "mimetype": "text/x-python",
      "name": "python",
      "nbconvert_exporter": "python",
      "pygments_lexer": "ipython3",
      "version": "3.9.12"
    },
    "orig_nbformat": 4,
    "vscode": {
      "interpreter": {
        "hash": "cc8e5058f68ae25fd0b682edbcb4bd875f373e41e844c915b7302617da639678"
      }
    },
    "colab": {
      "provenance": [],
      "collapsed_sections": []
    }
  },
  "nbformat": 4,
  "nbformat_minor": 0
}